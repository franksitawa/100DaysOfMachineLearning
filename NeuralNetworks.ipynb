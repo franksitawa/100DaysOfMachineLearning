{
 "cells": [
  {
   "cell_type": "code",
   "execution_count": 1,
   "metadata": {},
   "outputs": [
    {
     "name": "stderr",
     "output_type": "stream",
     "text": [
      "2023-07-25 08:58:23.119265: I tensorflow/core/util/port.cc:110] oneDNN custom operations are on. You may see slightly different numerical results due to floating-point round-off errors from different computation orders. To turn them off, set the environment variable `TF_ENABLE_ONEDNN_OPTS=0`.\n",
      "2023-07-25 08:58:23.174864: I tensorflow/tsl/cuda/cudart_stub.cc:28] Could not find cuda drivers on your machine, GPU will not be used.\n",
      "2023-07-25 08:58:23.465177: I tensorflow/tsl/cuda/cudart_stub.cc:28] Could not find cuda drivers on your machine, GPU will not be used.\n",
      "2023-07-25 08:58:23.467509: I tensorflow/core/platform/cpu_feature_guard.cc:182] This TensorFlow binary is optimized to use available CPU instructions in performance-critical operations.\n",
      "To enable the following instructions: AVX2 AVX512F AVX512_VNNI FMA, in other operations, rebuild TensorFlow with the appropriate compiler flags.\n",
      "2023-07-25 08:58:24.392265: W tensorflow/compiler/tf2tensorrt/utils/py_utils.cc:38] TF-TRT Warning: Could not find TensorRT\n"
     ]
    },
    {
     "name": "stdout",
     "output_type": "stream",
     "text": [
      "Imported modules.\n"
     ]
    }
   ],
   "source": [
    "import numpy as np\n",
    "import pandas as pd\n",
    "import tensorflow as tf\n",
    "from matplotlib import pyplot as plt\n",
    "import seaborn as sns\n",
    "\n",
    "# The following lines adjust the granularity of reporting.\n",
    "pd.options.display.max_rows = 10\n",
    "pd.options.display.float_format = \"{:.1f}\".format\n",
    "\n",
    "print(\"Imported modules.\")"
   ]
  },
  {
   "cell_type": "code",
   "execution_count": 2,
   "metadata": {},
   "outputs": [],
   "source": [
    "train_df = pd.read_csv(\"https://download.mlcc.google.com/mledu-datasets/california_housing_train.csv\")\n",
    "train_df = train_df.reindex(np.random.permutation(train_df.index)) # shuffle the examples\n",
    "test_df = pd.read_csv(\"https://download.mlcc.google.com/mledu-datasets/california_housing_test.csv\")"
   ]
  },
  {
   "cell_type": "code",
   "execution_count": 3,
   "metadata": {},
   "outputs": [
    {
     "name": "stdout",
     "output_type": "stream",
     "text": [
      "Preprocessing layers defined.\n"
     ]
    }
   ],
   "source": [
    "# Keras Input tensors of float values.\n",
    "inputs = {\n",
    "    'latitude':\n",
    "        tf.keras.layers.Input(shape=(1,), dtype=tf.float32,\n",
    "                              name='latitude'),\n",
    "    'longitude':\n",
    "        tf.keras.layers.Input(shape=(1,), dtype=tf.float32,\n",
    "                              name='longitude'),\n",
    "    'median_income':\n",
    "        tf.keras.layers.Input(shape=(1,), dtype=tf.float32,\n",
    "                              name='median_income'),\n",
    "    'population':\n",
    "        tf.keras.layers.Input(shape=(1,), dtype=tf.float32,\n",
    "                              name='population')\n",
    "}\n",
    "\n",
    "# Create a Normalization layer to normalize the median_income data.  \n",
    "median_income = tf.keras.layers.Normalization(\n",
    "    name='normalization_median_income',\n",
    "    axis=None)\n",
    "median_income.adapt(train_df['median_income'])\n",
    "median_income = median_income(inputs.get('median_income'))\n",
    "\n",
    "# Create a Normalization layer to normalize the population data. \n",
    "population = tf.keras.layers.Normalization(\n",
    "    name='normalization_population',\n",
    "    axis=None)\n",
    "population.adapt(train_df['population'])\n",
    "population = population(inputs.get('population'))\n",
    "\n",
    "# Create a list of numbers representing the bucket boundaries for latitude.\n",
    "# Because we're using a Normalization layer, values for latitude and longitude\n",
    "# will be in the range of approximately -3 to 3 (representing the Z score).\n",
    "# We'll create 20 buckets, which requires 21 bucket boundaries (hence, 20+1).\n",
    "latitude_boundaries = np.linspace(-3, 3, 20+1)\n",
    "\n",
    "# Create a Normalization layer to normalize the latitude data.\n",
    "latitude = tf.keras.layers.Normalization(\n",
    "    name='normalization_latitude',\n",
    "    axis=None)\n",
    "latitude.adapt(train_df['latitude'])\n",
    "latitude = latitude(inputs.get('latitude'))\n",
    "\n",
    "# Create a Discretization layer to separate the latitude data into buckets.\n",
    "latitude = tf.keras.layers.Discretization(\n",
    "    bin_boundaries=latitude_boundaries,\n",
    "    name='discretization_latitude')(latitude)\n",
    "\n",
    "# Create a list of numbers representing the bucket boundaries for longitude.\n",
    "longitude_boundaries = np.linspace(-3, 3, 20+1)\n",
    "\n",
    "# Create a Normalization layer to normalize the longitude data.\n",
    "longitude = tf.keras.layers.Normalization(\n",
    "    name='normalization_longitude',\n",
    "    axis=None)\n",
    "longitude.adapt(train_df['longitude'])\n",
    "longitude = longitude(inputs.get('longitude'))\n",
    "\n",
    "# Create a Discretization layer to separate the longitude data into buckets.\n",
    "longitude = tf.keras.layers.Discretization(\n",
    "    bin_boundaries=longitude_boundaries,\n",
    "    name='discretization_longitude')(longitude)\n",
    "\n",
    "# Cross the latitude and longitude features into a single one-hot vector.\n",
    "feature_cross = tf.keras.layers.HashedCrossing(\n",
    "    # num_bins can be adjusted: Higher values improve accuracy, lower values\n",
    "    # improve performance.\n",
    "    num_bins=len(latitude_boundaries) * len(longitude_boundaries), \n",
    "    output_mode='one_hot',\n",
    "    name='cross_latitude_longitude')([latitude, longitude])\n",
    "\n",
    "# Concatenate our inputs into a single tensor.\n",
    "preprocessing_layers = tf.keras.layers.Concatenate()(\n",
    "    [feature_cross, median_income, population])\n",
    "\n",
    "print(\"Preprocessing layers defined.\")"
   ]
  },
  {
   "cell_type": "code",
   "execution_count": 4,
   "metadata": {},
   "outputs": [
    {
     "name": "stdout",
     "output_type": "stream",
     "text": [
      "Defined the plot_the_loss_curve function.\n"
     ]
    }
   ],
   "source": [
    "def plot_the_loss_curve(epochs, mse_training, mse_validation):\n",
    "  \"\"\"Plot a curve of loss vs. epoch.\"\"\"\n",
    "\n",
    "  plt.figure()\n",
    "  plt.xlabel(\"Epoch\")\n",
    "  plt.ylabel(\"Mean Squared Error\")\n",
    "\n",
    "  plt.plot(epochs, mse_training, label=\"Training Loss\")\n",
    "  plt.plot(epochs, mse_validation, label=\"Validation Loss\")\n",
    "  \n",
    "  # mse_training is a pandas Series, so convert it to a list first.\n",
    "  merged_mse_lists = mse_training.tolist() + mse_validation\n",
    "  highest_loss = max(merged_mse_lists)\n",
    "  lowest_loss = min(merged_mse_lists)\n",
    "  top_of_y_axis = highest_loss * 1.03\n",
    "  bottom_of_y_axis = lowest_loss * 0.97 \n",
    "\n",
    "  plt.ylim([bottom_of_y_axis, top_of_y_axis])\n",
    "  plt.legend()\n",
    "  plt.show()  \n",
    "\n",
    "print(\"Defined the plot_the_loss_curve function.\")"
   ]
  },
  {
   "cell_type": "code",
   "execution_count": 5,
   "metadata": {},
   "outputs": [
    {
     "name": "stdout",
     "output_type": "stream",
     "text": [
      "Defined the create_model and train_model functions.\n"
     ]
    }
   ],
   "source": [
    "#@title Define functions to create and train a linear regression model\n",
    "def create_model(my_inputs, my_outputs, my_learning_rate):\n",
    "  \"\"\"Create and compile a simple linear regression model.\"\"\"\n",
    "  model = tf.keras.Model(inputs=my_inputs, outputs=my_outputs)\n",
    "\n",
    "  # Construct the layers into a model that TensorFlow can execute.\n",
    "  model.compile(optimizer=tf.keras.optimizers.Adam(\n",
    "      learning_rate=my_learning_rate),\n",
    "      loss=\"mean_squared_error\",\n",
    "      metrics=[tf.keras.metrics.MeanSquaredError()])\n",
    "\n",
    "  return model\n",
    "\n",
    "# Create Normalization layers to normalize the median_house_value data.\n",
    "# Because median_house_value is our label (i.e., the target value we're\n",
    "# predicting), these layers won't be added to our model.\n",
    "train_median_house_value_normalized = tf.keras.layers.Normalization(axis=None)\n",
    "train_median_house_value_normalized.adapt(\n",
    "    np.array(train_df['median_house_value']))\n",
    "\n",
    "test_median_house_value_normalized = tf.keras.layers.Normalization(axis=None)\n",
    "test_median_house_value_normalized.adapt(\n",
    "    np.array(test_df['median_house_value']))\n",
    "\n",
    "def train_model(model, dataset, epochs, batch_size, label_name, validation_split=0.1):\n",
    "  \"\"\"Feed a dataset into the model in order to train it.\"\"\"\n",
    "\n",
    "  # Split the dataset into features and label.\n",
    "  features = {name:np.array(value) for name, value in dataset.items()}\n",
    "  label = train_median_house_value_normalized(\n",
    "      np.array(features.pop(label_name)))\n",
    "  history = model.fit(x=features, y=label, batch_size=batch_size,\n",
    "                      epochs=epochs, shuffle=True, validation_split=validation_split)\n",
    "\n",
    "  # Get details that will be useful for plotting the loss curve.\n",
    "  epochs = history.epoch\n",
    "  hist = pd.DataFrame(history.history)\n",
    "  mse = hist[\"mean_squared_error\"]\n",
    "\n",
    "  return epochs, mse, history.history\n",
    "\n",
    "print(\"Defined the create_model and train_model functions.\")"
   ]
  },
  {
   "cell_type": "code",
   "execution_count": 6,
   "metadata": {},
   "outputs": [],
   "source": [
    "#@title Define linear regression model outputs\n",
    "def get_outputs_linear_regression():\n",
    "  # Create the Dense output layer.\n",
    "  dense_output = tf.keras.layers.Dense(units=1, input_shape=(1,),\n",
    "                              name='dense_output')(preprocessing_layers)\n",
    "\n",
    "  # Define an output dictionary we'll send to the model constructor.\n",
    "  outputs = {\n",
    "    'dense_output': dense_output\n",
    "  }\n",
    "  return outputs"
   ]
  },
  {
   "cell_type": "code",
   "execution_count": 7,
   "metadata": {},
   "outputs": [
    {
     "name": "stdout",
     "output_type": "stream",
     "text": [
      "Epoch 1/15\n"
     ]
    },
    {
     "name": "stderr",
     "output_type": "stream",
     "text": [
      "/home/franksitawa/anaconda3/lib/python3.10/site-packages/keras/src/engine/functional.py:639: UserWarning: Input dict contained keys ['housing_median_age', 'total_rooms', 'total_bedrooms', 'households'] which did not match any model input. They will be ignored by the model.\n",
      "  inputs = self._flatten_to_reference_inputs(inputs)\n"
     ]
    },
    {
     "name": "stdout",
     "output_type": "stream",
     "text": [
      "14/14 [==============================] - 0s 12ms/step - loss: 0.8100 - mean_squared_error: 0.8100 - val_loss: 0.6464 - val_mean_squared_error: 0.6464\n",
      "Epoch 2/15\n",
      "14/14 [==============================] - 0s 3ms/step - loss: 0.5872 - mean_squared_error: 0.5872 - val_loss: 0.4848 - val_mean_squared_error: 0.4848\n",
      "Epoch 3/15\n",
      "14/14 [==============================] - 0s 3ms/step - loss: 0.4561 - mean_squared_error: 0.4561 - val_loss: 0.3984 - val_mean_squared_error: 0.3984\n",
      "Epoch 4/15\n",
      "14/14 [==============================] - 0s 3ms/step - loss: 0.3911 - mean_squared_error: 0.3911 - val_loss: 0.3603 - val_mean_squared_error: 0.3603\n",
      "Epoch 5/15\n",
      "14/14 [==============================] - 0s 3ms/step - loss: 0.3635 - mean_squared_error: 0.3635 - val_loss: 0.3447 - val_mean_squared_error: 0.3447\n",
      "Epoch 6/15\n",
      "14/14 [==============================] - 0s 3ms/step - loss: 0.3527 - mean_squared_error: 0.3527 - val_loss: 0.3379 - val_mean_squared_error: 0.3379\n",
      "Epoch 7/15\n",
      "14/14 [==============================] - 0s 3ms/step - loss: 0.3478 - mean_squared_error: 0.3478 - val_loss: 0.3339 - val_mean_squared_error: 0.3339\n",
      "Epoch 8/15\n",
      "14/14 [==============================] - 0s 3ms/step - loss: 0.3449 - mean_squared_error: 0.3449 - val_loss: 0.3313 - val_mean_squared_error: 0.3313\n",
      "Epoch 9/15\n",
      "14/14 [==============================] - 0s 3ms/step - loss: 0.3429 - mean_squared_error: 0.3429 - val_loss: 0.3299 - val_mean_squared_error: 0.3299\n",
      "Epoch 10/15\n",
      "14/14 [==============================] - 0s 3ms/step - loss: 0.3416 - mean_squared_error: 0.3416 - val_loss: 0.3293 - val_mean_squared_error: 0.3293\n",
      "Epoch 11/15\n",
      "14/14 [==============================] - 0s 3ms/step - loss: 0.3410 - mean_squared_error: 0.3410 - val_loss: 0.3284 - val_mean_squared_error: 0.3284\n",
      "Epoch 12/15\n",
      "14/14 [==============================] - 0s 3ms/step - loss: 0.3403 - mean_squared_error: 0.3403 - val_loss: 0.3290 - val_mean_squared_error: 0.3290\n",
      "Epoch 13/15\n",
      "14/14 [==============================] - 0s 3ms/step - loss: 0.3400 - mean_squared_error: 0.3400 - val_loss: 0.3281 - val_mean_squared_error: 0.3281\n",
      "Epoch 14/15\n",
      "14/14 [==============================] - 0s 3ms/step - loss: 0.3396 - mean_squared_error: 0.3396 - val_loss: 0.3284 - val_mean_squared_error: 0.3284\n",
      "Epoch 15/15\n",
      "14/14 [==============================] - 0s 3ms/step - loss: 0.3395 - mean_squared_error: 0.3395 - val_loss: 0.3279 - val_mean_squared_error: 0.3279\n"
     ]
    },
    {
     "data": {
      "image/png": "[encoded data removed]",
      "text/plain": [
       "<Figure size 640x480 with 1 Axes>"
      ]
     },
     "metadata": {},
     "output_type": "display_data"
    },
    {
     "name": "stdout",
     "output_type": "stream",
     "text": [
      "\n",
      " Evaluate the linear regression model against the test set:\n",
      "3/3 [==============================] - 0s 3ms/step - loss: 0.3613 - mean_squared_error: 0.3613\n"
     ]
    },
    {
     "data": {
      "text/plain": [
       "{'loss': 0.3613415062427521, 'mean_squared_error': 0.3613415062427521}"
      ]
     },
     "execution_count": 7,
     "metadata": {},
     "output_type": "execute_result"
    }
   ],
   "source": [
    "learning_rate = 0.01\n",
    "epochs = 15\n",
    "batch_size = 1000\n",
    "label_name = \"median_house_value\"\n",
    "\n",
    "# Split the original training set into a reduced training set and a\n",
    "# validation set. \n",
    "validation_split = 0.2\n",
    "\n",
    "outputs = get_outputs_linear_regression()\n",
    "\n",
    "# Establish the model's topography.\n",
    "my_model = create_model(inputs, outputs, learning_rate)\n",
    "\n",
    "# Train the model on the normalized training set.\n",
    "epochs, mse, history = train_model(my_model, train_df, epochs, batch_size,\n",
    "                          label_name, validation_split)\n",
    "plot_the_loss_curve(epochs, mse, history[\"val_mean_squared_error\"])\n",
    "\n",
    "test_features = {name:np.array(value) for name, value in test_df.items()}\n",
    "test_label = test_median_house_value_normalized(test_features.pop(label_name)) # isolate the label\n",
    "print(\"\\n Evaluate the linear regression model against the test set:\")\n",
    "my_model.evaluate(x = test_features, y = test_label, batch_size=batch_size, return_dict=True)"
   ]
  },
  {
   "cell_type": "code",
   "execution_count": 8,
   "metadata": {},
   "outputs": [],
   "source": [
    "def get_outputs_dnn():\n",
    "  # Create a Dense layer with 20 nodes.\n",
    "  dense_output = tf.keras.layers.Dense(units=20, input_shape=(1,),\n",
    "                              activation='relu',\n",
    "                              name='hidden_dense_layer_1')(preprocessing_layers)\n",
    "  # Create a Dense layer with 12 nodes.\n",
    "  dense_output = tf.keras.layers.Dense(units=12, input_shape=(1,),\n",
    "                              activation='relu',\n",
    "                              name='hidden_dense_layer_2')(dense_output)\n",
    "  # Create the Dense output layer.\n",
    "  dense_output = tf.keras.layers.Dense(units=1, input_shape=(1,),\n",
    "                              name='dense_output')(dense_output)\n",
    "\n",
    "  # Define an output dictionary we'll send to the model constructor.\n",
    "  outputs = {\n",
    "    'dense_output': dense_output\n",
    "  }\n",
    "\n",
    "  return outputs"
   ]
  },
  {
   "cell_type": "code",
   "execution_count": 9,
   "metadata": {},
   "outputs": [
    {
     "name": "stdout",
     "output_type": "stream",
     "text": [
      "Epoch 1/20\n"
     ]
    },
    {
     "name": "stderr",
     "output_type": "stream",
     "text": [
      "/home/franksitawa/anaconda3/lib/python3.10/site-packages/keras/src/engine/functional.py:639: UserWarning: Input dict contained keys ['housing_median_age', 'total_rooms', 'total_bedrooms', 'households'] which did not match any model input. They will be ignored by the model.\n",
      "  inputs = self._flatten_to_reference_inputs(inputs)\n"
     ]
    },
    {
     "name": "stdout",
     "output_type": "stream",
     "text": [
      "14/14 [==============================] - 0s 11ms/step - loss: 0.6880 - mean_squared_error: 0.6880 - val_loss: 0.3996 - val_mean_squared_error: 0.3996\n",
      "Epoch 2/20\n",
      "14/14 [==============================] - 0s 4ms/step - loss: 0.3804 - mean_squared_error: 0.3804 - val_loss: 0.3434 - val_mean_squared_error: 0.3434\n",
      "Epoch 3/20\n",
      "14/14 [==============================] - 0s 4ms/step - loss: 0.3429 - mean_squared_error: 0.3429 - val_loss: 0.3241 - val_mean_squared_error: 0.3241\n",
      "Epoch 4/20\n",
      "14/14 [==============================] - 0s 4ms/step - loss: 0.3292 - mean_squared_error: 0.3292 - val_loss: 0.3140 - val_mean_squared_error: 0.3140\n",
      "Epoch 5/20\n",
      "14/14 [==============================] - 0s 4ms/step - loss: 0.3256 - mean_squared_error: 0.3256 - val_loss: 0.3121 - val_mean_squared_error: 0.3121\n",
      "Epoch 6/20\n",
      "14/14 [==============================] - 0s 5ms/step - loss: 0.3237 - mean_squared_error: 0.3237 - val_loss: 0.3117 - val_mean_squared_error: 0.3117\n",
      "Epoch 7/20\n",
      "14/14 [==============================] - 0s 3ms/step - loss: 0.3221 - mean_squared_error: 0.3221 - val_loss: 0.3152 - val_mean_squared_error: 0.3152\n",
      "Epoch 8/20\n",
      "14/14 [==============================] - 0s 3ms/step - loss: 0.3223 - mean_squared_error: 0.3223 - val_loss: 0.3112 - val_mean_squared_error: 0.3112\n",
      "Epoch 9/20\n",
      "14/14 [==============================] - 0s 4ms/step - loss: 0.3199 - mean_squared_error: 0.3199 - val_loss: 0.3168 - val_mean_squared_error: 0.3168\n",
      "Epoch 10/20\n",
      "14/14 [==============================] - 0s 4ms/step - loss: 0.3197 - mean_squared_error: 0.3197 - val_loss: 0.3123 - val_mean_squared_error: 0.3123\n",
      "Epoch 11/20\n",
      "14/14 [==============================] - 0s 4ms/step - loss: 0.3190 - mean_squared_error: 0.3190 - val_loss: 0.3122 - val_mean_squared_error: 0.3122\n",
      "Epoch 12/20\n",
      "14/14 [==============================] - 0s 4ms/step - loss: 0.3172 - mean_squared_error: 0.3172 - val_loss: 0.3090 - val_mean_squared_error: 0.3090\n",
      "Epoch 13/20\n",
      "14/14 [==============================] - 0s 4ms/step - loss: 0.3168 - mean_squared_error: 0.3168 - val_loss: 0.3115 - val_mean_squared_error: 0.3115\n",
      "Epoch 14/20\n",
      "14/14 [==============================] - 0s 4ms/step - loss: 0.3161 - mean_squared_error: 0.3161 - val_loss: 0.3100 - val_mean_squared_error: 0.3100\n",
      "Epoch 15/20\n",
      "14/14 [==============================] - 0s 4ms/step - loss: 0.3165 - mean_squared_error: 0.3165 - val_loss: 0.3103 - val_mean_squared_error: 0.3103\n",
      "Epoch 16/20\n",
      "14/14 [==============================] - 0s 4ms/step - loss: 0.3158 - mean_squared_error: 0.3158 - val_loss: 0.3113 - val_mean_squared_error: 0.3113\n",
      "Epoch 17/20\n",
      "14/14 [==============================] - 0s 4ms/step - loss: 0.3147 - mean_squared_error: 0.3147 - val_loss: 0.3100 - val_mean_squared_error: 0.3100\n",
      "Epoch 18/20\n",
      "14/14 [==============================] - 0s 4ms/step - loss: 0.3149 - mean_squared_error: 0.3149 - val_loss: 0.3088 - val_mean_squared_error: 0.3088\n",
      "Epoch 19/20\n",
      "14/14 [==============================] - 0s 4ms/step - loss: 0.3147 - mean_squared_error: 0.3147 - val_loss: 0.3106 - val_mean_squared_error: 0.3106\n",
      "Epoch 20/20\n",
      "14/14 [==============================] - 0s 4ms/step - loss: 0.3133 - mean_squared_error: 0.3133 - val_loss: 0.3079 - val_mean_squared_error: 0.3079\n"
     ]
    },
    {
     "data": {
      "image/png": "[encoded data removed]",
      "text/plain": [
       "<Figure size 640x480 with 1 Axes>"
      ]
     },
     "metadata": {},
     "output_type": "display_data"
    },
    {
     "name": "stdout",
     "output_type": "stream",
     "text": [
      "\n",
      " Evaluate the new model against the test set:\n",
      "3/3 [==============================] - 0s 2ms/step - loss: 0.3420 - mean_squared_error: 0.3420\n"
     ]
    },
    {
     "data": {
      "text/plain": [
       "{'loss': 0.3419690430164337, 'mean_squared_error': 0.3419690430164337}"
      ]
     },
     "execution_count": 9,
     "metadata": {},
     "output_type": "execute_result"
    }
   ],
   "source": [
    "# The following variables are the hyperparameters.\n",
    "learning_rate = 0.01\n",
    "epochs = 20\n",
    "batch_size = 1000\n",
    "\n",
    "# Specify the label\n",
    "label_name = \"median_house_value\"\n",
    "\n",
    "# Split the original training set into a reduced training set and a\n",
    "# validation set. \n",
    "validation_split = 0.2\n",
    "\n",
    "dnn_outputs = get_outputs_dnn()\n",
    "\n",
    "# Establish the model's topography.\n",
    "my_model = create_model(\n",
    "    inputs,\n",
    "    dnn_outputs,\n",
    "    learning_rate)\n",
    "\n",
    "# Train the model on the normalized training set. We're passing the entire\n",
    "# normalized training set, but the model will only use the features\n",
    "# defined in our inputs.\n",
    "epochs, mse, history = train_model(my_model, train_df, epochs,\n",
    "                                   batch_size, label_name, validation_split)\n",
    "plot_the_loss_curve(epochs, mse, history[\"val_mean_squared_error\"])\n",
    "\n",
    "# After building a model against the training set, test that model\n",
    "# against the test set.\n",
    "test_features = {name:np.array(value) for name, value in test_df.items()}\n",
    "test_label = test_median_house_value_normalized(np.array(test_features.pop(label_name))) # isolate the label\n",
    "print(\"\\n Evaluate the new model against the test set:\")\n",
    "my_model.evaluate(x = test_features, y = test_label, batch_size=batch_size, return_dict=True)"
   ]
  },
  {
   "cell_type": "code",
   "execution_count": 10,
   "metadata": {},
   "outputs": [],
   "source": [
    "# Assuming that the linear model converged and\n",
    "# the deep neural net model also converged, please \n",
    "# compare the test set loss for each.\n",
    "# In our experiments, the loss of the deep neural \n",
    "# network model was consistently lower than \n",
    "# that of the linear regression model, which \n",
    "# suggests that the deep neural network model \n",
    "# will make better predictions than the \n",
    "# linear regression model."
   ]
  },
  {
   "cell_type": "code",
   "execution_count": null,
   "metadata": {},
   "outputs": [],
   "source": [
    "# Many answers are possible.  We noticed the \n",
    "# following trends:\n",
    "#   * Two layers outperformed one layer, but \n",
    "#     three layers did not perform significantly \n",
    "#     better than two layers.\n",
    "#     In other words, two layers seemed best. \n",
    "#   * Setting the topography as follows produced \n",
    "#     reasonably good results with relatively few \n",
    "#     nodes:\n",
    "#       * 10 nodes in the first layer.\n",
    "#       *  6 nodes in the second layer.\n",
    "#     As the number of nodes in each layer dropped\n",
    "#     below the preceding, test loss increased.  \n",
    "#     However, depending on your application, hardware\n",
    "#     constraints, and the relative pain inflicted \n",
    "#     by a less accurate model, a smaller network \n",
    "#     (for example, 6 nodes in the first layer and \n",
    "#     4 nodes in the second layer) might be \n",
    "#     acceptable."
   ]
  }
 ],
 "metadata": {
  "kernelspec": {
   "display_name": "base",
   "language": "python",
   "name": "python3"
  },
  "language_info": {
   "codemirror_mode": {
    "name": "ipython",
    "version": 3
   },
   "file_extension": ".py",
   "mimetype": "text/x-python",
   "name": "python",
   "nbconvert_exporter": "python",
   "pygments_lexer": "ipython3",
   "version": "3.10.9"
  },
  "orig_nbformat": 4
 },
 "nbformat": 4,
 "nbformat_minor": 2
}
