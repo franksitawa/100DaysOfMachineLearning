{
 "cells": [
  {
   "cell_type": "code",
   "execution_count": 2,
   "metadata": {},
   "outputs": [
    {
     "name": "stdout",
     "output_type": "stream",
     "text": [
      "Imported the modules.\n"
     ]
    }
   ],
   "source": [
    "import numpy as np\n",
    "import pandas as pd\n",
    "import tensorflow as tf\n",
    "from tensorflow.keras import layers\n",
    "\n",
    "from matplotlib import pyplot as plt\n",
    "\n",
    "pd.options.display.max_rows = 10\n",
    "pd.options.display.float_format = \"{:.1f}\".format\n",
    "\n",
    "tf.keras.backend.set_floatx('float32')\n",
    "\n",
    "print(\"Imported the modules.\")"
   ]
  },
  {
   "cell_type": "code",
   "execution_count": 3,
   "metadata": {},
   "outputs": [],
   "source": [
    "train_df = pd.read_csv(\"https://download.mlcc.google.com/mledu-datasets/california_housing_train.csv\")\n",
    "test_df = pd.read_csv(\"https://download.mlcc.google.com/mledu-datasets/california_housing_test.csv\")\n",
    "\n",
    "scale_factor = 1000.0\n",
    "\n",
    "train_df[\"median_house_value\"] /= scale_factor\n",
    "\n",
    "test_df[\"median_house_value\"] /= scale_factor\n",
    "\n",
    "train_df = train_df.reindex(np.random.permutation(train_df.index))"
   ]
  },
  {
   "cell_type": "code",
   "execution_count": 9,
   "metadata": {},
   "outputs": [],
   "source": [
    "inputs={\n",
    "    'latitude': tf.keras.layers.Input(name='latitude', shape=(1,), dtype='float32'),\n",
    "    'longitude': tf.keras.layers.Input(name='longitude', shape=(1,), dtype='float32'),\n",
    "}"
   ]
  },
  {
   "cell_type": "code",
   "execution_count": 10,
   "metadata": {},
   "outputs": [
    {
     "name": "stdout",
     "output_type": "stream",
     "text": [
      "Defined the create_model, train_model, and plot_the_loss_curve functions.\n"
     ]
    }
   ],
   "source": [
    "def create_model(my_inputs, my_outputs, my_learning_rate):\n",
    "\n",
    "  model = tf.keras.Model(inputs=my_inputs, outputs=my_outputs)\n",
    "\n",
    "  # Construct the layers into a model that TensorFlow can execute.\n",
    "  model.compile(optimizer=tf.keras.optimizers.experimental.RMSprop(\n",
    "      learning_rate=my_learning_rate),\n",
    "      loss=\"mean_squared_error\",\n",
    "      metrics=[tf.keras.metrics.RootMeanSquaredError()])\n",
    "\n",
    "  return model\n",
    "\n",
    "\n",
    "def train_model(model, dataset, epochs, batch_size, label_name):\n",
    "  \"\"\"Feed a dataset into the model in order to train it.\"\"\"\n",
    "\n",
    "  features = {name:np.array(value) for name, value in dataset.items()}\n",
    "  label = np.array(features.pop(label_name))\n",
    "  history = model.fit(x=features, y=label, batch_size=batch_size,\n",
    "                      epochs=epochs, shuffle=True)\n",
    "\n",
    "  # The list of epochs is stored separately from the rest of history.\n",
    "  epochs = history.epoch\n",
    "  \n",
    "  # Isolate the mean absolute error for each epoch.\n",
    "  hist = pd.DataFrame(history.history)\n",
    "  rmse = hist[\"root_mean_squared_error\"]\n",
    "\n",
    "  return epochs, rmse   \n",
    "\n",
    "\n",
    "def plot_the_loss_curve(epochs, rmse):\n",
    "  \"\"\"Plot a curve of loss vs. epoch.\"\"\"\n",
    "\n",
    "  plt.figure()\n",
    "  plt.xlabel(\"Epoch\")\n",
    "  plt.ylabel(\"Root Mean Squared Error\")\n",
    "\n",
    "  plt.plot(epochs, rmse, label=\"Loss\")\n",
    "  plt.legend()\n",
    "  plt.ylim([rmse.min()*0.94, rmse.max()* 1.05])\n",
    "  plt.show()  \n",
    "\n",
    "print(\"Defined the create_model, train_model, and plot_the_loss_curve functions.\")"
   ]
  },
  {
   "cell_type": "code",
   "execution_count": 11,
   "metadata": {},
   "outputs": [
    {
     "name": "stdout",
     "output_type": "stream",
     "text": [
      "Epoch 1/30\n",
      "  1/170 [..............................] - ETA: 29s - loss: 160835.5781 - root_mean_squared_error: 401.0431"
     ]
    },
    {
     "name": "stderr",
     "output_type": "stream",
     "text": [
      "/home/franksitawa/anaconda3/lib/python3.10/site-packages/keras/src/engine/functional.py:639: UserWarning: Input dict contained keys ['housing_median_age', 'total_rooms', 'total_bedrooms', 'population', 'households', 'median_income'] which did not match any model input. They will be ignored by the model.\n",
      "  inputs = self._flatten_to_reference_inputs(inputs)\n"
     ]
    },
    {
     "name": "stdout",
     "output_type": "stream",
     "text": [
      "170/170 [==============================] - 0s 724us/step - loss: 23860.1172 - root_mean_squared_error: 154.4672\n",
      "Epoch 2/30\n",
      "170/170 [==============================] - 0s 606us/step - loss: 13594.6826 - root_mean_squared_error: 116.5962\n",
      "Epoch 3/30\n",
      "170/170 [==============================] - 0s 617us/step - loss: 13546.1553 - root_mean_squared_error: 116.3880\n",
      "Epoch 4/30\n",
      "170/170 [==============================] - 0s 622us/step - loss: 13473.7988 - root_mean_squared_error: 116.0767\n",
      "Epoch 5/30\n",
      "170/170 [==============================] - 0s 614us/step - loss: 13440.8477 - root_mean_squared_error: 115.9347\n",
      "Epoch 6/30\n",
      "170/170 [==============================] - 0s 637us/step - loss: 13388.6211 - root_mean_squared_error: 115.7092\n",
      "Epoch 7/30\n",
      "170/170 [==============================] - 0s 591us/step - loss: 13334.7754 - root_mean_squared_error: 115.4763\n",
      "Epoch 8/30\n",
      "170/170 [==============================] - 0s 767us/step - loss: 13311.5635 - root_mean_squared_error: 115.3757\n",
      "Epoch 9/30\n",
      "170/170 [==============================] - 0s 579us/step - loss: 13253.1719 - root_mean_squared_error: 115.1224\n",
      "Epoch 10/30\n",
      "170/170 [==============================] - 0s 630us/step - loss: 13230.2275 - root_mean_squared_error: 115.0227\n",
      "Epoch 11/30\n",
      "170/170 [==============================] - 0s 626us/step - loss: 13191.7285 - root_mean_squared_error: 114.8552\n",
      "Epoch 12/30\n",
      "170/170 [==============================] - 0s 582us/step - loss: 13182.7090 - root_mean_squared_error: 114.8160\n",
      "Epoch 13/30\n",
      "170/170 [==============================] - 0s 578us/step - loss: 13128.1816 - root_mean_squared_error: 114.5783\n",
      "Epoch 14/30\n",
      "170/170 [==============================] - 0s 634us/step - loss: 13117.2490 - root_mean_squared_error: 114.5306\n",
      "Epoch 15/30\n",
      "170/170 [==============================] - 0s 617us/step - loss: 13078.1719 - root_mean_squared_error: 114.3598\n",
      "Epoch 16/30\n",
      "170/170 [==============================] - 0s 639us/step - loss: 13066.3926 - root_mean_squared_error: 114.3083\n",
      "Epoch 17/30\n",
      "170/170 [==============================] - 0s 653us/step - loss: 13031.2832 - root_mean_squared_error: 114.1546\n",
      "Epoch 18/30\n",
      "170/170 [==============================] - 0s 642us/step - loss: 13017.0098 - root_mean_squared_error: 114.0921\n",
      "Epoch 19/30\n",
      "170/170 [==============================] - 0s 637us/step - loss: 12995.7197 - root_mean_squared_error: 113.9988\n",
      "Epoch 20/30\n",
      "170/170 [==============================] - 0s 642us/step - loss: 12974.3633 - root_mean_squared_error: 113.9051\n",
      "Epoch 21/30\n",
      "170/170 [==============================] - 0s 634us/step - loss: 12959.3213 - root_mean_squared_error: 113.8390\n",
      "Epoch 22/30\n",
      "170/170 [==============================] - 0s 641us/step - loss: 12948.7539 - root_mean_squared_error: 113.7926\n",
      "Epoch 23/30\n",
      "170/170 [==============================] - 0s 781us/step - loss: 12933.7617 - root_mean_squared_error: 113.7267\n",
      "Epoch 24/30\n",
      "170/170 [==============================] - 0s 593us/step - loss: 12921.9189 - root_mean_squared_error: 113.6746\n",
      "Epoch 25/30\n",
      "170/170 [==============================] - 0s 590us/step - loss: 12919.7568 - root_mean_squared_error: 113.6651\n",
      "Epoch 26/30\n",
      "170/170 [==============================] - 0s 587us/step - loss: 12880.0186 - root_mean_squared_error: 113.4902\n",
      "Epoch 27/30\n",
      "170/170 [==============================] - 0s 577us/step - loss: 12881.3311 - root_mean_squared_error: 113.4959\n",
      "Epoch 28/30\n",
      "170/170 [==============================] - 0s 576us/step - loss: 12876.4502 - root_mean_squared_error: 113.4744\n",
      "Epoch 29/30\n",
      "170/170 [==============================] - 0s 628us/step - loss: 12862.6387 - root_mean_squared_error: 113.4136\n",
      "Epoch 30/30\n",
      "170/170 [==============================] - 0s 584us/step - loss: 12854.1328 - root_mean_squared_error: 113.3761\n",
      "Model: \"model_1\"\n",
      "__________________________________________________________________________________________________\n",
      " Layer (type)                Output Shape                 Param #   Connected to                  \n",
      "==================================================================================================\n",
      " latitude (InputLayer)       [(None, 1)]                  0         []                            \n",
      "                                                                                                  \n",
      " longitude (InputLayer)      [(None, 1)]                  0         []                            \n",
      "                                                                                                  \n",
      " concatenate_2 (Concatenate  (None, 2)                    0         ['latitude[0][0]',            \n",
      " )                                                                   'longitude[0][0]']           \n",
      "                                                                                                  \n",
      " dense_layer (Dense)         (None, 1)                    3         ['concatenate_2[0][0]']       \n",
      "                                                                                                  \n",
      "==================================================================================================\n",
      "Total params: 3 (12.00 Byte)\n",
      "Trainable params: 3 (12.00 Byte)\n",
      "Non-trainable params: 0 (0.00 Byte)\n",
      "__________________________________________________________________________________________________\n"
     ]
    },
    {
     "data": {
      "image/png": "[encoded data removed]",
      "text/plain": [
       "<Figure size 640x480 with 1 Axes>"
      ]
     },
     "metadata": {},
     "output_type": "display_data"
    },
    {
     "name": "stdout",
     "output_type": "stream",
     "text": [
      "\n",
      ": Evaluate the new model against the test set:\n",
      "30/30 [==============================] - 0s 631us/step - loss: 12185.2949 - root_mean_squared_error: 110.3870\n"
     ]
    },
    {
     "name": "stderr",
     "output_type": "stream",
     "text": [
      "/home/franksitawa/anaconda3/lib/python3.10/site-packages/keras/src/engine/functional.py:639: UserWarning: Input dict contained keys ['housing_median_age', 'total_rooms', 'total_bedrooms', 'population', 'households', 'median_income'] which did not match any model input. They will be ignored by the model.\n",
      "  inputs = self._flatten_to_reference_inputs(inputs)\n"
     ]
    },
    {
     "data": {
      "text/plain": [
       "[12185.294921875, 110.38702392578125]"
      ]
     },
     "execution_count": 11,
     "metadata": {},
     "output_type": "execute_result"
    }
   ],
   "source": [
    "# The following variables are the hyperparameters.\n",
    "learning_rate = 0.05\n",
    "epochs = 30\n",
    "batch_size = 100\n",
    "label_name = 'median_house_value'\n",
    "\n",
    "# The two Input layers are concatenated so they can be passed as a single\n",
    "# tensor to a Dense layer.\n",
    "preprocessing_layer = tf.keras.layers.Concatenate()(inputs.values())\n",
    "\n",
    "dense_output = layers.Dense(\n",
    "    units=1,\n",
    "    input_shape=(1,),\n",
    "    name='dense_layer')(preprocessing_layer)\n",
    "\n",
    "outputs = {\n",
    "  'dense_output': dense_output\n",
    "}\n",
    "\n",
    "# Create and compile the model's topography.\n",
    "my_model = create_model(inputs, outputs, learning_rate)\n",
    "\n",
    "# To view a PNG of this model's layers, uncomment the call to\n",
    "# `tf.keras.utils.plot_model` below. After running this code cell, click\n",
    "# the file folder on the left, then the `my_model.png` file.\n",
    "# tf.keras.utils.plot_model(my_model, \"my_model.png\", show_shapes=True)\n",
    "\n",
    "# Train the model on the training set.\n",
    "epochs, rmse = train_model(my_model, train_df, epochs, batch_size, label_name)\n",
    "\n",
    "# Print out the model summary.\n",
    "my_model.summary(expand_nested=True)\n",
    "\n",
    "plot_the_loss_curve(epochs, rmse)\n",
    "\n",
    "print(\"\\n: Evaluate the new model against the test set:\")\n",
    "test_features = {name:np.array(value) for name, value in test_df.items()}\n",
    "test_label = np.array(test_features.pop(label_name))\n",
    "my_model.evaluate(x=test_features, y=test_label, batch_size=batch_size)"
   ]
  },
  {
   "cell_type": "code",
   "execution_count": null,
   "metadata": {},
   "outputs": [],
   "source": [
    "# No. Representing latitude and longitude as \n",
    "# floating-point values does not have much \n",
    "# predictive power. For example, neighborhoods at \n",
    "# latitude 35 are not 36/35 more valuable \n",
    "# (or 35/36 less valuable) than houses at \n",
    "# latitude 36.\n",
    "\n",
    "# Representing `latitude` and `longitude` as \n",
    "# floating-point values provides almost no \n",
    "# predictive power. We're only using the raw values \n",
    "# to establish a baseline for future experiments \n",
    "# with better representations."
   ]
  },
  {
   "cell_type": "code",
   "execution_count": 12,
   "metadata": {},
   "outputs": [
    {
     "name": "stdout",
     "output_type": "stream",
     "text": [
      "latitude boundaries: [32.0, 33.0, 34.0, 35.0, 36.0, 37.0, 38.0, 39.0, 40.0]\n",
      "longitude boundaries: [-124.0, -123.0, -122.0, -121.0, -120.0, -119.0, -118.0, -117.0, -116.0, -115.0]\n"
     ]
    }
   ],
   "source": [
    "resolution_in_degrees = 1.0\n",
    "\n",
    "# Create a list of numbers representing the bucket boundaries for latitude.\n",
    "latitude_boundaries = list(np.arange(int(min(train_df['latitude'])), \n",
    "                                     int(max(train_df['latitude'])), \n",
    "                                     resolution_in_degrees))\n",
    "print(\"latitude boundaries: \" + str(latitude_boundaries))\n",
    "\n",
    "# Create a Discretization layer to separate the latitude data into buckets.\n",
    "latitude = tf.keras.layers.Discretization(\n",
    "    bin_boundaries=latitude_boundaries,\n",
    "    name='discretization_latitude')(inputs.get('latitude'))\n",
    "\n",
    "# Number of categories is the length of latitude_boundaries plus one.\n",
    "latitude = tf.keras.layers.CategoryEncoding(\n",
    "    num_tokens=len(latitude_boundaries) + 1,\n",
    "    output_mode='one_hot',\n",
    "    name='category_encoding_latitude')(latitude)\n",
    "\n",
    "# Create a list of numbers representing the bucket boundaries for longitude.\n",
    "longitude_boundaries = list(np.arange(int(min(train_df['longitude'])), \n",
    "                                      int(max(train_df['longitude'])), \n",
    "                                      resolution_in_degrees))\n",
    "\n",
    "print(\"longitude boundaries: \" + str(longitude_boundaries))\n",
    "\n",
    "# Create a Discretization layer to separate the longitude data into buckets.\n",
    "longitude = tf.keras.layers.Discretization(\n",
    "    bin_boundaries=longitude_boundaries,\n",
    "    name='discretization_longitude')(inputs.get('longitude'))\n",
    "\n",
    "# Number of categories is the length of longitude_boundaries plus one.\n",
    "longitude = tf.keras.layers.CategoryEncoding(\n",
    "    num_tokens=len(longitude_boundaries) + 1,\n",
    "    output_mode='one_hot',\n",
    "    name='category_encoding_longitude')(longitude)\n",
    "\n",
    "# Concatenate latitude and longitude into a single tensor as input for the Dense layer.\n",
    "concatenate_layer = tf.keras.layers.Concatenate()([latitude, longitude])\n",
    "\n",
    "dense_output = layers.Dense(\n",
    "    units=1, input_shape=(2,), name='dense_layer')(concatenate_layer)\n",
    "\n",
    "# Define an output dictionary we'll send to the model constructor.\n",
    "outputs = {\n",
    "  'dense_output': dense_output\n",
    "}"
   ]
  },
  {
   "cell_type": "code",
   "execution_count": 13,
   "metadata": {},
   "outputs": [
    {
     "name": "stdout",
     "output_type": "stream",
     "text": [
      "Epoch 1/35\n",
      "170/170 [==============================] - 0s 655us/step - loss: 52112.8398 - root_mean_squared_error: 228.2824\n",
      "Epoch 2/35\n",
      "170/170 [==============================] - 0s 657us/step - loss: 44707.4219 - root_mean_squared_error: 211.4413\n",
      "Epoch 3/35\n",
      "170/170 [==============================] - 0s 648us/step - loss: 38118.1094 - root_mean_squared_error: 195.2386\n",
      "Epoch 4/35\n",
      "170/170 [==============================] - 0s 811us/step - loss: 32306.5371 - root_mean_squared_error: 179.7402\n",
      "Epoch 5/35\n",
      "170/170 [==============================] - 0s 682us/step - loss: 27293.9863 - root_mean_squared_error: 165.2089\n",
      "Epoch 6/35\n",
      "170/170 [==============================] - 0s 652us/step - loss: 23029.9902 - root_mean_squared_error: 151.7563\n",
      "Epoch 7/35\n",
      "170/170 [==============================] - 0s 652us/step - loss: 19508.2617 - root_mean_squared_error: 139.6720\n",
      "Epoch 8/35\n",
      "170/170 [==============================] - 0s 675us/step - loss: 16719.5449 - root_mean_squared_error: 129.3041\n",
      "Epoch 9/35\n",
      "170/170 [==============================] - 0s 665us/step - loss: 14553.0312 - root_mean_squared_error: 120.6359\n",
      "Epoch 10/35\n",
      "170/170 [==============================] - 0s 681us/step - loss: 13003.1865 - root_mean_squared_error: 114.0315\n",
      "Epoch 11/35\n",
      "170/170 [==============================] - 0s 677us/step - loss: 11965.0830 - root_mean_squared_error: 109.3850\n",
      "Epoch 12/35\n",
      "170/170 [==============================] - 0s 652us/step - loss: 11331.9883 - root_mean_squared_error: 106.4518\n",
      "Epoch 13/35\n",
      "170/170 [==============================] - 0s 656us/step - loss: 10992.5859 - root_mean_squared_error: 104.8455\n",
      "Epoch 14/35\n",
      "170/170 [==============================] - 0s 683us/step - loss: 10797.7295 - root_mean_squared_error: 103.9121\n",
      "Epoch 15/35\n",
      "170/170 [==============================] - 0s 662us/step - loss: 10677.4814 - root_mean_squared_error: 103.3319\n",
      "Epoch 16/35\n",
      "170/170 [==============================] - 0s 846us/step - loss: 10601.5869 - root_mean_squared_error: 102.9640\n",
      "Epoch 17/35\n",
      "170/170 [==============================] - 0s 626us/step - loss: 10552.2695 - root_mean_squared_error: 102.7242\n",
      "Epoch 18/35\n",
      "170/170 [==============================] - 0s 649us/step - loss: 10519.1670 - root_mean_squared_error: 102.5630\n",
      "Epoch 19/35\n",
      "170/170 [==============================] - 0s 658us/step - loss: 10495.2871 - root_mean_squared_error: 102.4465\n",
      "Epoch 20/35\n",
      "170/170 [==============================] - 0s 659us/step - loss: 10477.2168 - root_mean_squared_error: 102.3583\n",
      "Epoch 21/35\n",
      "170/170 [==============================] - 0s 647us/step - loss: 10461.8906 - root_mean_squared_error: 102.2834\n",
      "Epoch 22/35\n",
      "170/170 [==============================] - 0s 682us/step - loss: 10448.4092 - root_mean_squared_error: 102.2175\n",
      "Epoch 23/35\n",
      "170/170 [==============================] - 0s 647us/step - loss: 10437.0029 - root_mean_squared_error: 102.1617\n",
      "Epoch 24/35\n",
      "170/170 [==============================] - 0s 642us/step - loss: 10426.4346 - root_mean_squared_error: 102.1099\n",
      "Epoch 25/35\n",
      "170/170 [==============================] - 0s 654us/step - loss: 10416.1689 - root_mean_squared_error: 102.0596\n",
      "Epoch 26/35\n",
      "170/170 [==============================] - 0s 654us/step - loss: 10407.6738 - root_mean_squared_error: 102.0180\n",
      "Epoch 27/35\n",
      "170/170 [==============================] - 0s 667us/step - loss: 10398.7705 - root_mean_squared_error: 101.9744\n",
      "Epoch 28/35\n",
      "170/170 [==============================] - 0s 657us/step - loss: 10390.1416 - root_mean_squared_error: 101.9320\n",
      "Epoch 29/35\n",
      "170/170 [==============================] - 0s 654us/step - loss: 10382.0771 - root_mean_squared_error: 101.8925\n",
      "Epoch 30/35\n",
      "170/170 [==============================] - 0s 799us/step - loss: 10374.4521 - root_mean_squared_error: 101.8551\n",
      "Epoch 31/35\n",
      "170/170 [==============================] - 0s 632us/step - loss: 10367.1309 - root_mean_squared_error: 101.8191\n",
      "Epoch 32/35\n",
      "170/170 [==============================] - 0s 643us/step - loss: 10359.3301 - root_mean_squared_error: 101.7808\n",
      "Epoch 33/35\n",
      "170/170 [==============================] - 0s 635us/step - loss: 10352.3750 - root_mean_squared_error: 101.7466\n",
      "Epoch 34/35\n",
      "170/170 [==============================] - 0s 655us/step - loss: 10345.1914 - root_mean_squared_error: 101.7113\n",
      "Epoch 35/35\n",
      "170/170 [==============================] - 0s 661us/step - loss: 10339.0273 - root_mean_squared_error: 101.6810\n",
      "Model: \"model_2\"\n",
      "__________________________________________________________________________________________________\n",
      " Layer (type)                Output Shape                 Param #   Connected to                  \n",
      "==================================================================================================\n",
      " latitude (InputLayer)       [(None, 1)]                  0         []                            \n",
      "                                                                                                  \n",
      " longitude (InputLayer)      [(None, 1)]                  0         []                            \n",
      "                                                                                                  \n",
      " discretization_latitude (D  (None, 1)                    0         ['latitude[0][0]']            \n",
      " iscretization)                                                                                   \n",
      "                                                                                                  \n",
      " discretization_longitude (  (None, 1)                    0         ['longitude[0][0]']           \n",
      " Discretization)                                                                                  \n",
      "                                                                                                  \n",
      " category_encoding_latitude  (None, 10)                   0         ['discretization_latitude[0][0\n",
      "  (CategoryEncoding)                                                ]']                           \n",
      "                                                                                                  \n",
      " category_encoding_longitud  (None, 11)                   0         ['discretization_longitude[0][\n",
      " e (CategoryEncoding)                                               0]']                          \n",
      "                                                                                                  \n",
      " concatenate_3 (Concatenate  (None, 21)                   0         ['category_encoding_latitude[0\n",
      " )                                                                  ][0]',                        \n",
      "                                                                     'category_encoding_longitude[\n",
      "                                                                    0][0]']                       \n",
      "                                                                                                  \n",
      " dense_layer (Dense)         (None, 1)                    22        ['concatenate_3[0][0]']       \n",
      "                                                                                                  \n",
      "==================================================================================================\n",
      "Total params: 22 (88.00 Byte)\n",
      "Trainable params: 22 (88.00 Byte)\n",
      "Non-trainable params: 0 (0.00 Byte)\n",
      "__________________________________________________________________________________________________\n"
     ]
    },
    {
     "data": {
      "image/png": "[encoded data removed]",
      "text/plain": [
       "<Figure size 640x480 with 1 Axes>"
      ]
     },
     "metadata": {},
     "output_type": "display_data"
    },
    {
     "name": "stdout",
     "output_type": "stream",
     "text": [
      "\n",
      ": Evaluate the new model against the test set:\n",
      "30/30 [==============================] - 0s 712us/step - loss: 10197.0430 - root_mean_squared_error: 100.9804\n"
     ]
    },
    {
     "name": "stderr",
     "output_type": "stream",
     "text": [
      "/home/franksitawa/anaconda3/lib/python3.10/site-packages/keras/src/engine/functional.py:639: UserWarning: Input dict contained keys ['housing_median_age', 'total_rooms', 'total_bedrooms', 'population', 'households', 'median_income'] which did not match any model input. They will be ignored by the model.\n",
      "  inputs = self._flatten_to_reference_inputs(inputs)\n"
     ]
    },
    {
     "data": {
      "text/plain": [
       "[10197.04296875, 100.98040771484375]"
      ]
     },
     "execution_count": 13,
     "metadata": {},
     "output_type": "execute_result"
    }
   ],
   "source": [
    "# The following variables are the hyperparameters.\n",
    "learning_rate = 0.04\n",
    "epochs = 35\n",
    "\n",
    "# Build the model.\n",
    "my_model = create_model(inputs, outputs, learning_rate)\n",
    "\n",
    "# Train the model on the training set.\n",
    "epochs, rmse = train_model(my_model, train_df, epochs, batch_size, label_name)\n",
    "\n",
    "# Print out the model summary.\n",
    "my_model.summary(expand_nested=True)\n",
    "\n",
    "plot_the_loss_curve(epochs, rmse)\n",
    "\n",
    "print(\"\\n: Evaluate the new model against the test set:\")\n",
    "my_model.evaluate(x=test_features, y=test_label, batch_size=batch_size)"
   ]
  },
  {
   "cell_type": "code",
   "execution_count": 14,
   "metadata": {},
   "outputs": [],
   "source": [
    "#@title Double-click for an answer to Task 2.\n",
    "\n",
    "# Bucket representation outperformed \n",
    "# floating-point representations.  \n",
    "# However, you can still do far better."
   ]
  },
  {
   "cell_type": "code",
   "execution_count": 29,
   "metadata": {},
   "outputs": [],
   "source": [
    "resolution_in_degrees = 0.4\n",
    "\n",
    "# Create a list of numbers representing the bucket boundaries for latitude.\n",
    "latitude_boundaries = list(np.arange(int(min(train_df['latitude'])), \n",
    "                                     int(max(train_df['latitude'])), \n",
    "                                     resolution_in_degrees))\n",
    "\n",
    "# Create a Discretization layer to separate the latitude data into buckets.\n",
    "latitude = tf.keras.layers.Discretization(\n",
    "    bin_boundaries=latitude_boundaries,\n",
    "    name='discretization_latitude')(inputs.get('latitude'))\n",
    "\n",
    "# Create a list of numbers representing the bucket boundaries for longitude.\n",
    "longitude_boundaries = list(np.arange(int(min(train_df['longitude'])), \n",
    "                                      int(max(train_df['longitude'])), \n",
    "                                      resolution_in_degrees))\n",
    "\n",
    "# Create a Discretization layer to separate the longitude data into buckets.\n",
    "longitude = tf.keras.layers.Discretization(\n",
    "    bin_boundaries=longitude_boundaries,\n",
    "    name='discretization_longitude')(inputs.get('longitude'))\n",
    "\n",
    "# Cross the latitude and longitude features into a single one-hot vector.\n",
    "feature_cross = tf.keras.layers.HashedCrossing(\n",
    "    num_bins=len(latitude_boundaries) * len(longitude_boundaries), \n",
    "    output_mode='one_hot',\n",
    "    name='cross_latitude_longitude')([latitude, longitude])\n",
    "\n",
    "dense_output = layers.Dense(units=1, input_shape=(2,), \n",
    "                            name='dense_layer')(feature_cross)\n",
    "\n",
    "# Define an output dictionary we'll send to the model constructor.\n",
    "outputs = {\n",
    "  'dense_output': dense_output\n",
    "}"
   ]
  },
  {
   "cell_type": "code",
   "execution_count": 30,
   "metadata": {},
   "outputs": [
    {
     "name": "stdout",
     "output_type": "stream",
     "text": [
      "Epoch 1/35\n",
      "170/170 [==============================] - 0s 743us/step - loss: 53692.0781 - root_mean_squared_error: 231.7155\n",
      "Epoch 2/35\n",
      "170/170 [==============================] - 0s 718us/step - loss: 48942.5547 - root_mean_squared_error: 221.2296\n",
      "Epoch 3/35\n",
      "170/170 [==============================] - 0s 778us/step - loss: 44487.7656 - root_mean_squared_error: 210.9212\n",
      "Epoch 4/35\n",
      "170/170 [==============================] - 0s 706us/step - loss: 40335.1094 - root_mean_squared_error: 200.8360\n",
      "Epoch 5/35\n",
      "170/170 [==============================] - 0s 696us/step - loss: 36479.0430 - root_mean_squared_error: 190.9949\n",
      "Epoch 6/35\n",
      "170/170 [==============================] - 0s 789us/step - loss: 32918.7734 - root_mean_squared_error: 181.4353\n",
      "Epoch 7/35\n",
      "170/170 [==============================] - 0s 758us/step - loss: 29625.5508 - root_mean_squared_error: 172.1207\n",
      "Epoch 8/35\n",
      "170/170 [==============================] - 0s 865us/step - loss: 26649.3086 - root_mean_squared_error: 163.2462\n",
      "Epoch 9/35\n",
      "170/170 [==============================] - 0s 1ms/step - loss: 23939.1406 - root_mean_squared_error: 154.7228\n",
      "Epoch 10/35\n",
      "170/170 [==============================] - 0s 818us/step - loss: 21519.7852 - root_mean_squared_error: 146.6962\n",
      "Epoch 11/35\n",
      "170/170 [==============================] - 0s 771us/step - loss: 19366.0254 - root_mean_squared_error: 139.1619\n",
      "Epoch 12/35\n",
      "170/170 [==============================] - 0s 766us/step - loss: 17454.5586 - root_mean_squared_error: 132.1157\n",
      "Epoch 13/35\n",
      "170/170 [==============================] - 0s 719us/step - loss: 15790.7314 - root_mean_squared_error: 125.6612\n",
      "Epoch 14/35\n",
      "170/170 [==============================] - 0s 753us/step - loss: 14359.5898 - root_mean_squared_error: 119.8315\n",
      "Epoch 15/35\n",
      "170/170 [==============================] - 0s 700us/step - loss: 13148.5107 - root_mean_squared_error: 114.6670\n",
      "Epoch 16/35\n",
      "170/170 [==============================] - 0s 734us/step - loss: 12146.8809 - root_mean_squared_error: 110.2129\n",
      "Epoch 17/35\n",
      "170/170 [==============================] - 0s 734us/step - loss: 11338.2900 - root_mean_squared_error: 106.4814\n",
      "Epoch 18/35\n",
      "170/170 [==============================] - 0s 707us/step - loss: 10693.2432 - root_mean_squared_error: 103.4081\n",
      "Epoch 19/35\n",
      "170/170 [==============================] - 0s 701us/step - loss: 10186.7578 - root_mean_squared_error: 100.9295\n",
      "Epoch 20/35\n",
      "170/170 [==============================] - 0s 692us/step - loss: 9798.2070 - root_mean_squared_error: 98.9859\n",
      "Epoch 21/35\n",
      "170/170 [==============================] - 0s 691us/step - loss: 9496.0723 - root_mean_squared_error: 97.4478\n",
      "Epoch 22/35\n",
      "170/170 [==============================] - 0s 796us/step - loss: 9255.6572 - root_mean_squared_error: 96.2063\n",
      "Epoch 23/35\n",
      "170/170 [==============================] - 0s 701us/step - loss: 9046.8525 - root_mean_squared_error: 95.1149\n",
      "Epoch 24/35\n",
      "170/170 [==============================] - 0s 699us/step - loss: 8861.2754 - root_mean_squared_error: 94.1343\n",
      "Epoch 25/35\n",
      "170/170 [==============================] - 0s 734us/step - loss: 8695.8848 - root_mean_squared_error: 93.2517\n",
      "Epoch 26/35\n",
      "170/170 [==============================] - 0s 700us/step - loss: 8551.3682 - root_mean_squared_error: 92.4736\n",
      "Epoch 27/35\n",
      "170/170 [==============================] - 0s 691us/step - loss: 8421.0664 - root_mean_squared_error: 91.7664\n",
      "Epoch 28/35\n",
      "170/170 [==============================] - 0s 683us/step - loss: 8306.6934 - root_mean_squared_error: 91.1411\n",
      "Epoch 29/35\n",
      "170/170 [==============================] - 0s 684us/step - loss: 8205.0391 - root_mean_squared_error: 90.5817\n",
      "Epoch 30/35\n",
      "170/170 [==============================] - 0s 688us/step - loss: 8112.3896 - root_mean_squared_error: 90.0688\n",
      "Epoch 31/35\n",
      "170/170 [==============================] - 0s 700us/step - loss: 8029.9312 - root_mean_squared_error: 89.6099\n",
      "Epoch 32/35\n",
      "170/170 [==============================] - 0s 693us/step - loss: 7957.7178 - root_mean_squared_error: 89.2060\n",
      "Epoch 33/35\n",
      "170/170 [==============================] - 0s 683us/step - loss: 7894.3228 - root_mean_squared_error: 88.8500\n",
      "Epoch 34/35\n",
      "170/170 [==============================] - 0s 689us/step - loss: 7837.5605 - root_mean_squared_error: 88.5300\n",
      "Epoch 35/35\n",
      "170/170 [==============================] - 0s 698us/step - loss: 7788.4902 - root_mean_squared_error: 88.2524\n",
      "Model: \"model_9\"\n",
      "__________________________________________________________________________________________________\n",
      " Layer (type)                Output Shape                 Param #   Connected to                  \n",
      "==================================================================================================\n",
      " latitude (InputLayer)       [(None, 1)]                  0         []                            \n",
      "                                                                                                  \n",
      " longitude (InputLayer)      [(None, 1)]                  0         []                            \n",
      "                                                                                                  \n",
      " discretization_latitude (D  (None, 1)                    0         ['latitude[0][0]']            \n",
      " iscretization)                                                                                   \n",
      "                                                                                                  \n",
      " discretization_longitude (  (None, 1)                    0         ['longitude[0][0]']           \n",
      " Discretization)                                                                                  \n",
      "                                                                                                  \n",
      " cross_latitude_longitude (  (None, 575)                  0         ['discretization_latitude[0][0\n",
      " HashedCrossing)                                                    ]',                           \n",
      "                                                                     'discretization_longitude[0][\n",
      "                                                                    0]']                          \n",
      "                                                                                                  \n",
      " dense_layer (Dense)         (None, 1)                    576       ['cross_latitude_longitude[0][\n",
      "                                                                    0]']                          \n",
      "                                                                                                  \n",
      "==================================================================================================\n",
      "Total params: 576 (2.25 KB)\n",
      "Trainable params: 576 (2.25 KB)\n",
      "Non-trainable params: 0 (0.00 Byte)\n",
      "__________________________________________________________________________________________________\n"
     ]
    },
    {
     "data": {
      "image/png": "[encoded data removed]",
      "text/plain": [
       "<Figure size 640x480 with 1 Axes>"
      ]
     },
     "metadata": {},
     "output_type": "display_data"
    },
    {
     "name": "stdout",
     "output_type": "stream",
     "text": [
      "\n",
      ": Evaluate the new model against the test set:\n",
      "30/30 [==============================] - 0s 745us/step - loss: 7851.1587 - root_mean_squared_error: 88.6068\n"
     ]
    },
    {
     "name": "stderr",
     "output_type": "stream",
     "text": [
      "/home/franksitawa/anaconda3/lib/python3.10/site-packages/keras/src/engine/functional.py:639: UserWarning: Input dict contained keys ['housing_median_age', 'total_rooms', 'total_bedrooms', 'population', 'households', 'median_income'] which did not match any model input. They will be ignored by the model.\n",
      "  inputs = self._flatten_to_reference_inputs(inputs)\n"
     ]
    },
    {
     "data": {
      "text/plain": [
       "[7851.15869140625, 88.60676574707031]"
      ]
     },
     "execution_count": 30,
     "metadata": {},
     "output_type": "execute_result"
    }
   ],
   "source": [
    "# The following variables are the hyperparameters.\n",
    "learning_rate = 0.04\n",
    "epochs = 35\n",
    "\n",
    "# Build the model, this time passing in the feature_cross_feature_layer: \n",
    "my_model = create_model(inputs, outputs, learning_rate)\n",
    "\n",
    "# Train the model on the training set.\n",
    "epochs, rmse = train_model(my_model, train_df, epochs, batch_size, label_name)\n",
    "\n",
    "# Print out the model summary.\n",
    "my_model.summary(expand_nested=True)\n",
    "\n",
    "plot_the_loss_curve(epochs, rmse)\n",
    "\n",
    "print(\"\\n: Evaluate the new model against the test set:\")\n",
    "my_model.evaluate(x=test_features, y=test_label, batch_size=batch_size)"
   ]
  },
  {
   "cell_type": "code",
   "execution_count": 31,
   "metadata": {},
   "outputs": [],
   "source": [
    "#1. A resolution of ~0.4 degree provides the best \n",
    "#   results.\n",
    "\n",
    "#2. Below ~0.4 degree, loss increases because the \n",
    "#   dataset does not contain enough examples in \n",
    "#   each cell to accurately predict prices for \n",
    "#   those cells.\n",
    "\n",
    "#3. Postal code would be a far better feature \n",
    "#   than latitude X longitude, assuming that \n",
    "#   the dataset contained sufficient examples \n",
    "#   in each postal code."
   ]
  },
  {
   "cell_type": "code",
   "execution_count": 17,
   "metadata": {},
   "outputs": [],
   "source": [
    "# Yes, representing these features as a feature \n",
    "# cross produced much lower loss values than \n",
    "# representing these features as buckets"
   ]
  }
 ],
 "metadata": {
  "kernelspec": {
   "display_name": "base",
   "language": "python",
   "name": "python3"
  },
  "language_info": {
   "codemirror_mode": {
    "name": "ipython",
    "version": 3
   },
   "file_extension": ".py",
   "mimetype": "text/x-python",
   "name": "python",
   "nbconvert_exporter": "python",
   "pygments_lexer": "ipython3",
   "version": "3.10.9"
  },
  "orig_nbformat": 4
 },
 "nbformat": 4,
 "nbformat_minor": 2
}
