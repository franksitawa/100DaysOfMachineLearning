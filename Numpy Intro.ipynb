{
 "cells": [
  {
   "cell_type": "code",
   "execution_count": 4,
   "id": "6160ef4b",
   "metadata": {},
   "outputs": [],
   "source": [
    "import numpy as np"
   ]
  },
  {
   "cell_type": "code",
   "execution_count": 5,
   "id": "59d70a4f",
   "metadata": {},
   "outputs": [
    {
     "name": "stdout",
     "output_type": "stream",
     "text": [
      "[1.2 2.4 3.5 4.7 6.1 7.2 8.3 9.5]\n"
     ]
    }
   ],
   "source": [
    "one_dimensional_array=np.array([1.2,2.4,3.5,4.7,6.1,7.2,8.3,9.5])\n",
    "print(one_dimensional_array)"
   ]
  },
  {
   "cell_type": "code",
   "execution_count": 7,
   "id": "9684c545",
   "metadata": {},
   "outputs": [
    {
     "name": "stdout",
     "output_type": "stream",
     "text": [
      "[[ 6  5]\n",
      " [11  7]\n",
      " [ 4  8]\n",
      " [ 2  5]]\n"
     ]
    }
   ],
   "source": [
    "two_dimensional_array=np.array([[6,5],[11,7],[4,8],[2,5]])\n",
    "print(two_dimensional_array)"
   ]
  },
  {
   "cell_type": "code",
   "execution_count": 6,
   "id": "e12f0d29",
   "metadata": {},
   "outputs": [
    {
     "name": "stdout",
     "output_type": "stream",
     "text": [
      "[ 5  6  7  8  9 10 11]\n"
     ]
    }
   ],
   "source": [
    "sequence_of_integers=np.arange(5,12)\n",
    "print(sequence_of_integers)"
   ]
  },
  {
   "cell_type": "code",
   "execution_count": 8,
   "id": "0185ce20",
   "metadata": {},
   "outputs": [
    {
     "name": "stdout",
     "output_type": "stream",
     "text": [
      "[81 74 96 84 97 87]\n"
     ]
    }
   ],
   "source": [
    "random_integers_between_50_and_100=np.random.randint(low=50,high=101,size=(6))\n",
    "print(random_integers_between_50_and_100)"
   ]
  },
  {
   "cell_type": "code",
   "execution_count": 10,
   "id": "dedc4ea3",
   "metadata": {},
   "outputs": [
    {
     "name": "stdout",
     "output_type": "stream",
     "text": [
      "[0.83536975 0.30348471 0.84135256 0.08647017 0.7549674  0.55712673]\n"
     ]
    }
   ],
   "source": [
    "random_floats_between_0_and_1=np.random.random([6])\n",
    "print(random_floats_between_0_and_1)"
   ]
  },
  {
   "cell_type": "code",
   "execution_count": 11,
   "id": "38dc14f1",
   "metadata": {},
   "outputs": [
    {
     "name": "stdout",
     "output_type": "stream",
     "text": [
      "[2.83536975 2.30348471 2.84135256 2.08647017 2.7549674  2.55712673]\n"
     ]
    }
   ],
   "source": [
    "random_floats_between_2_and_3=random_floats_between_0_and_1+2\n",
    "print(random_floats_between_2_and_3)"
   ]
  },
  {
   "cell_type": "code",
   "execution_count": 12,
   "id": "2400a3bc",
   "metadata": {},
   "outputs": [
    {
     "name": "stdout",
     "output_type": "stream",
     "text": [
      "[243 222 288 252 291 261]\n"
     ]
    }
   ],
   "source": [
    "random_integers_between_150_and_300=random_integers_between_50_and_100*3\n",
    "print(random_integers_between_150_and_300)"
   ]
  },
  {
   "cell_type": "code",
   "execution_count": 13,
   "id": "74347af1",
   "metadata": {},
   "outputs": [
    {
     "name": "stdout",
     "output_type": "stream",
     "text": [
      "[10  6 15 18  8  6 12 20 11 13 16  7 18 20  6]\n"
     ]
    }
   ],
   "source": [
    "feature=np.random.randint(low=6,high=21,size=(15))\n",
    "print(feature)"
   ]
  },
  {
   "cell_type": "code",
   "execution_count": 15,
   "id": "be926f4f",
   "metadata": {},
   "outputs": [
    {
     "name": "stdout",
     "output_type": "stream",
     "text": [
      "[34 22 49 58 28 22 40 64 37 43 52 25 58 64 22]\n"
     ]
    }
   ],
   "source": [
    "label=(3*feature)+4\n",
    "print(label)"
   ]
  },
  {
   "cell_type": "code",
   "execution_count": 16,
   "id": "bf63874d",
   "metadata": {},
   "outputs": [
    {
     "name": "stdout",
     "output_type": "stream",
     "text": [
      "[ 6  7  8  9 10 11 12 13 14 15 16 17 18 19 20]\n",
      "[22 25 28 31 34 37 40 43 46 49 52 55 58 61 64]\n"
     ]
    }
   ],
   "source": [
    "feature = np.arange(6, 21)\n",
    "print(feature)\n",
    "label = (feature * 3) + 4\n",
    "print(label)"
   ]
  },
  {
   "cell_type": "code",
   "execution_count": 17,
   "id": "0e643d30",
   "metadata": {},
   "outputs": [
    {
     "name": "stdout",
     "output_type": "stream",
     "text": [
      "[-0.57489428 -1.44107067 -0.85886675  1.09434372 -0.04256864 -0.76709547\n",
      " -1.16511483 -0.14371074 -1.98326795  0.56636261  1.13939899 -1.80707315\n",
      " -1.21352609 -1.59513674  1.03719033]\n",
      "[21.42510572 23.55892933 27.14113325 32.09434372 33.95743136 36.23290453\n",
      " 38.83488517 42.85628926 44.01673205 49.56636261 53.13939899 53.19292685\n",
      " 56.78647391 59.40486326 65.03719033]\n"
     ]
    }
   ],
   "source": [
    "noise=(np.random.random([15])*4)-2\n",
    "print(noise)\n",
    "label=label+noise\n",
    "print(label)"
   ]
  },
  {
   "cell_type": "code",
   "execution_count": null,
   "id": "03a555e5",
   "metadata": {},
   "outputs": [],
   "source": []
  }
 ],
 "metadata": {
  "kernelspec": {
   "display_name": "Python 3 (ipykernel)",
   "language": "python",
   "name": "python3"
  },
  "language_info": {
   "codemirror_mode": {
    "name": "ipython",
    "version": 3
   },
   "file_extension": ".py",
   "mimetype": "text/x-python",
   "name": "python",
   "nbconvert_exporter": "python",
   "pygments_lexer": "ipython3",
   "version": "3.10.9"
  }
 },
 "nbformat": 4,
 "nbformat_minor": 5
}
