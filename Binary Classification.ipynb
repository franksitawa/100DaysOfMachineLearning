{
 "cells": [
  {
   "cell_type": "code",
   "execution_count": 2,
   "metadata": {},
   "outputs": [
    {
     "name": "stdout",
     "output_type": "stream",
     "text": [
      "Ran the import statements\n"
     ]
    }
   ],
   "source": [
    "import numpy as np\n",
    "import pandas as pd\n",
    "import tensorflow as tf\n",
    "from tensorflow.keras import layers\n",
    "from matplotlib import pyplot as plt\n",
    "\n",
    "pd.options.display.max_rows =10\n",
    "pd.options.display.float_format = \"{:.1f}\".format\n",
    "\n",
    "print(\"Ran the import statements\")"
   ]
  },
  {
   "cell_type": "code",
   "execution_count": 3,
   "metadata": {},
   "outputs": [],
   "source": [
    "train_df = pd.read_csv(\"https://download.mlcc.google.com/mledu-datasets/california_housing_train.csv\")\n",
    "test_df = pd.read_csv(\"https://download.mlcc.google.com/mledu-datasets/california_housing_test.csv\")\n",
    "train_df = train_df.reindex(np.random.permutation(train_df.index)) # shuffle the training set"
   ]
  },
  {
   "cell_type": "code",
   "execution_count": 4,
   "metadata": {},
   "outputs": [
    {
     "data": {
      "text/html": [
       "<div>\n",
       "<style scoped>\n",
       "    .dataframe tbody tr th:only-of-type {\n",
       "        vertical-align: middle;\n",
       "    }\n",
       "\n",
       "    .dataframe tbody tr th {\n",
       "        vertical-align: top;\n",
       "    }\n",
       "\n",
       "    .dataframe thead th {\n",
       "        text-align: right;\n",
       "    }\n",
       "</style>\n",
       "<table border=\"1\" class=\"dataframe\">\n",
       "  <thead>\n",
       "    <tr style=\"text-align: right;\">\n",
       "      <th></th>\n",
       "      <th>longitude</th>\n",
       "      <th>latitude</th>\n",
       "      <th>housing_median_age</th>\n",
       "      <th>total_rooms</th>\n",
       "      <th>total_bedrooms</th>\n",
       "      <th>population</th>\n",
       "      <th>households</th>\n",
       "      <th>median_income</th>\n",
       "      <th>median_house_value</th>\n",
       "    </tr>\n",
       "  </thead>\n",
       "  <tbody>\n",
       "    <tr>\n",
       "      <th>1257</th>\n",
       "      <td>1.2</td>\n",
       "      <td>-1.3</td>\n",
       "      <td>-0.4</td>\n",
       "      <td>0.4</td>\n",
       "      <td>1.1</td>\n",
       "      <td>0.3</td>\n",
       "      <td>1.0</td>\n",
       "      <td>-0.9</td>\n",
       "      <td>-0.6</td>\n",
       "    </tr>\n",
       "    <tr>\n",
       "      <th>16091</th>\n",
       "      <td>-1.4</td>\n",
       "      <td>1.0</td>\n",
       "      <td>-0.9</td>\n",
       "      <td>-0.1</td>\n",
       "      <td>-0.1</td>\n",
       "      <td>-0.5</td>\n",
       "      <td>0.0</td>\n",
       "      <td>-0.4</td>\n",
       "      <td>-1.0</td>\n",
       "    </tr>\n",
       "    <tr>\n",
       "      <th>10642</th>\n",
       "      <td>-0.5</td>\n",
       "      <td>0.8</td>\n",
       "      <td>-1.0</td>\n",
       "      <td>-0.6</td>\n",
       "      <td>-0.7</td>\n",
       "      <td>-0.4</td>\n",
       "      <td>-0.7</td>\n",
       "      <td>-0.2</td>\n",
       "      <td>-0.9</td>\n",
       "    </tr>\n",
       "    <tr>\n",
       "      <th>2682</th>\n",
       "      <td>0.9</td>\n",
       "      <td>-0.7</td>\n",
       "      <td>-0.5</td>\n",
       "      <td>-0.5</td>\n",
       "      <td>-0.5</td>\n",
       "      <td>-0.6</td>\n",
       "      <td>-0.5</td>\n",
       "      <td>-0.5</td>\n",
       "      <td>-0.5</td>\n",
       "    </tr>\n",
       "    <tr>\n",
       "      <th>1831</th>\n",
       "      <td>1.1</td>\n",
       "      <td>-0.7</td>\n",
       "      <td>-0.6</td>\n",
       "      <td>-1.0</td>\n",
       "      <td>-1.0</td>\n",
       "      <td>-0.9</td>\n",
       "      <td>-1.0</td>\n",
       "      <td>-1.1</td>\n",
       "      <td>-1.1</td>\n",
       "    </tr>\n",
       "  </tbody>\n",
       "</table>\n",
       "</div>"
      ],
      "text/plain": [
       "       longitude  latitude  housing_median_age  total_rooms  total_bedrooms  \\\n",
       "1257         1.2      -1.3                -0.4          0.4             1.1   \n",
       "16091       -1.4       1.0                -0.9         -0.1            -0.1   \n",
       "10642       -0.5       0.8                -1.0         -0.6            -0.7   \n",
       "2682         0.9      -0.7                -0.5         -0.5            -0.5   \n",
       "1831         1.1      -0.7                -0.6         -1.0            -1.0   \n",
       "\n",
       "       population  households  median_income  median_house_value  \n",
       "1257          0.3         1.0           -0.9                -0.6  \n",
       "16091        -0.5         0.0           -0.4                -1.0  \n",
       "10642        -0.4        -0.7           -0.2                -0.9  \n",
       "2682         -0.6        -0.5           -0.5                -0.5  \n",
       "1831         -0.9        -1.0           -1.1                -1.1  "
      ]
     },
     "execution_count": 4,
     "metadata": {},
     "output_type": "execute_result"
    }
   ],
   "source": [
    "# Calculate the Z-scores of each column in the training set and\n",
    "# write those Z-scores into a new pandas DataFrame named train_df_norm.\n",
    "train_df_mean = train_df.mean()\n",
    "train_df_std = train_df.std()\n",
    "train_df_norm = (train_df - train_df_mean)/train_df_std\n",
    "\n",
    "# Examine some of the values of the normalized training set. Notice that most \n",
    "# Z-scores fall between -2 and +2.\n",
    "train_df_norm.head()"
   ]
  },
  {
   "cell_type": "code",
   "execution_count": 5,
   "metadata": {},
   "outputs": [],
   "source": [
    "# Calculate the Z-scores of each column in the test set and\n",
    "# write those Z-scores into a new pandas DataFrame named test_df_norm.\n",
    "test_df_mean = test_df.mean()\n",
    "test_df_std  = test_df.std()\n",
    "test_df_norm = (test_df - test_df_mean)/test_df_std"
   ]
  },
  {
   "cell_type": "code",
   "execution_count": 8,
   "metadata": {},
   "outputs": [
    {
     "data": {
      "text/plain": [
       "1257    0.0\n",
       "16091   0.0\n",
       "10642   0.0\n",
       "2682    0.0\n",
       "1831    0.0\n",
       "         ..\n",
       "2143    0.0\n",
       "9991    0.0\n",
       "16977   0.0\n",
       "6036    0.0\n",
       "14719   0.0\n",
       "Name: median_house_value_is_high, Length: 8000, dtype: float64"
      ]
     },
     "execution_count": 8,
     "metadata": {},
     "output_type": "execute_result"
    }
   ],
   "source": [
    "# We arbitrarily set the threshold to 265,000, which is \n",
    "# the 75th percentile for median house values.  Every neighborhood\n",
    "# with a median house price above 265,000 will be labeled 1, \n",
    "# and all other neighborhoods will be labeled 0.\n",
    "threshold = 265000\n",
    "train_df_norm[\"median_house_value_is_high\"] = (train_df[\"median_house_value\"] > threshold).astype(float)\n",
    "test_df_norm[\"median_house_value_is_high\"] = (test_df[\"median_house_value\"] > threshold).astype(float) \n",
    "train_df_norm[\"median_house_value_is_high\"].head(8000)\n",
    "\n",
    "\n",
    "# Alternatively, instead of picking the threshold\n",
    "# based on raw house values, you can work with Z-scores.\n",
    "# For example, the following possible solution uses a Z-score\n",
    "# of +1.0 as the threshold, meaning that no more\n",
    "# than 16% of the values in median_house_value_is_high\n",
    "# will be labeled 1.\n",
    "\n",
    "# threshold_in_Z = 1.0 \n",
    "# train_df_norm[\"median_house_value_is_high\"] = (train_df_norm[\"median_house_value\"] > threshold_in_Z).astype(float)\n",
    "# test_df_norm[\"median_house_value_is_high\"] = (test_df_norm[\"median_house_value\"] > threshold_in_Z).astype(float) "
   ]
  },
  {
   "cell_type": "code",
   "execution_count": 7,
   "metadata": {},
   "outputs": [],
   "source": [
    "inputs = {\n",
    "# Features used to train the model on.\n",
    "  'median_income': tf.keras.Input(shape=(1,)),\n",
    "  'total_rooms': tf.keras.Input(shape=(1,))\n",
    "}"
   ]
  },
  {
   "cell_type": "code",
   "execution_count": 6,
   "metadata": {},
   "outputs": [
    {
     "name": "stdout",
     "output_type": "stream",
     "text": [
      "Defined the create_model and train_model functions.\n"
     ]
    }
   ],
   "source": [
    "#@title Define the functions that create and train a model.\n",
    "def create_model(my_inputs, my_learning_rate, METRICS):\n",
    "  # Use a Concatenate layer to concatenate the input layers into a single tensor.\n",
    "  # as input for the Dense layer. Ex: [input_1[0][0], input_2[0][0]]\n",
    "  concatenated_inputs = tf.keras.layers.Concatenate()(my_inputs.values())\n",
    "  dense = layers.Dense(units=1, input_shape=(1,),name='dense_layer', activation=tf.sigmoid)\n",
    "  dense_output = dense(concatenated_inputs)\n",
    "  \"\"\"Create and compile a simple classification model.\"\"\"\n",
    "  my_outputs = {\n",
    "    'dense': dense_output,\n",
    "  }\n",
    "  model = tf.keras.Model(inputs=my_inputs, outputs=my_outputs)\n",
    "\n",
    "  # Call the compile method to construct the layers into a model that\n",
    "  # TensorFlow can execute.  Notice that we're using a different loss\n",
    "  # function for classification than for regression.    \n",
    "  model.compile(optimizer=tf.keras.optimizers.experimental.RMSprop(learning_rate=my_learning_rate),                                                   \n",
    "                loss=tf.keras.losses.BinaryCrossentropy(),\n",
    "                metrics=METRICS)\n",
    "  return model        \n",
    "\n",
    "\n",
    "def train_model(model, dataset, epochs, label_name,\n",
    "                batch_size=None, shuffle=True):\n",
    "  \"\"\"Feed a dataset into the model in order to train it.\"\"\"\n",
    "\n",
    "  # The x parameter of tf.keras.Model.fit can be a list of arrays, where\n",
    "  # each array contains the data for one feature.  Here, we're passing\n",
    "  # every column in the dataset. Note that the feature_layer will filter\n",
    "  # away most of those columns, leaving only the desired columns and their\n",
    "  # representations as features.\n",
    "  features = {name:np.array(value) for name, value in dataset.items()}\n",
    "  label = np.array(features.pop(label_name)) \n",
    "  history = model.fit(x=features, y=label, batch_size=batch_size,\n",
    "                      epochs=epochs, shuffle=shuffle)\n",
    "  \n",
    "  # The list of epochs is stored separately from the rest of history.\n",
    "  epochs = history.epoch\n",
    "\n",
    "  # Isolate the classification metric for each epoch.\n",
    "  hist = pd.DataFrame(history.history)\n",
    "\n",
    "  return epochs, hist  \n",
    "\n",
    "print(\"Defined the create_model and train_model functions.\")   "
   ]
  },
  {
   "cell_type": "code",
   "execution_count": 9,
   "metadata": {},
   "outputs": [
    {
     "name": "stdout",
     "output_type": "stream",
     "text": [
      "Defined the plot_curve function.\n"
     ]
    }
   ],
   "source": [
    "def plot_curve(epochs, hist, list_of_metrics):\n",
    "  \"\"\"Plot a curve of one or more classification metrics vs. epoch.\"\"\"  \n",
    "  # list_of_metrics should be one of the names shown in:\n",
    "  # https://www.tensorflow.org/tutorials/structured_data/imbalanced_data#define_the_model_and_metrics  \n",
    "\n",
    "  plt.figure()\n",
    "  plt.xlabel(\"Epoch\")\n",
    "  plt.ylabel(\"Value\")\n",
    "\n",
    "  for m in list_of_metrics:\n",
    "    x = hist[m]\n",
    "    plt.plot(epochs[1:], x[1:], label=m)\n",
    "\n",
    "  plt.legend()\n",
    "\n",
    "print(\"Defined the plot_curve function.\")"
   ]
  },
  {
   "cell_type": "code",
   "execution_count": 10,
   "metadata": {},
   "outputs": [
    {
     "name": "stdout",
     "output_type": "stream",
     "text": [
      "Epoch 1/20\n"
     ]
    },
    {
     "name": "stderr",
     "output_type": "stream",
     "text": [
      "/home/franksitawa/anaconda3/lib/python3.10/site-packages/keras/src/engine/functional.py:639: UserWarning: Input dict contained keys ['longitude', 'latitude', 'housing_median_age', 'total_bedrooms', 'population', 'households', 'median_house_value'] which did not match any model input. They will be ignored by the model.\n",
      "  inputs = self._flatten_to_reference_inputs(inputs)\n"
     ]
    },
    {
     "name": "stdout",
     "output_type": "stream",
     "text": [
      "170/170 [==============================] - 0s 686us/step - loss: 0.6403 - accuracy: 0.4316\n",
      "Epoch 2/20\n",
      "170/170 [==============================] - 0s 674us/step - loss: 0.5742 - accuracy: 0.5491\n",
      "Epoch 3/20\n",
      "170/170 [==============================] - 0s 633us/step - loss: 0.5212 - accuracy: 0.6412\n",
      "Epoch 4/20\n",
      "170/170 [==============================] - 0s 799us/step - loss: 0.4791 - accuracy: 0.7097\n",
      "Epoch 5/20\n",
      "170/170 [==============================] - 0s 628us/step - loss: 0.4484 - accuracy: 0.7479\n",
      "Epoch 6/20\n",
      "170/170 [==============================] - 0s 623us/step - loss: 0.4273 - accuracy: 0.7737\n",
      "Epoch 7/20\n",
      "170/170 [==============================] - 0s 609us/step - loss: 0.4138 - accuracy: 0.7920\n",
      "Epoch 8/20\n",
      "170/170 [==============================] - 0s 675us/step - loss: 0.4058 - accuracy: 0.8015\n",
      "Epoch 9/20\n",
      "170/170 [==============================] - 0s 726us/step - loss: 0.4014 - accuracy: 0.8042\n",
      "Epoch 10/20\n",
      "170/170 [==============================] - 0s 614us/step - loss: 0.3992 - accuracy: 0.8061\n",
      "Epoch 11/20\n",
      "170/170 [==============================] - 0s 664us/step - loss: 0.3979 - accuracy: 0.8071\n",
      "Epoch 12/20\n",
      "170/170 [==============================] - 0s 627us/step - loss: 0.3973 - accuracy: 0.8080\n",
      "Epoch 13/20\n",
      "170/170 [==============================] - 0s 640us/step - loss: 0.3969 - accuracy: 0.8079\n",
      "Epoch 14/20\n",
      "170/170 [==============================] - 0s 621us/step - loss: 0.3968 - accuracy: 0.8095\n",
      "Epoch 15/20\n",
      "170/170 [==============================] - 0s 614us/step - loss: 0.3967 - accuracy: 0.8087\n",
      "Epoch 16/20\n",
      "170/170 [==============================] - 0s 627us/step - loss: 0.3967 - accuracy: 0.8091\n",
      "Epoch 17/20\n",
      "170/170 [==============================] - 0s 591us/step - loss: 0.3966 - accuracy: 0.8092\n",
      "Epoch 18/20\n",
      "170/170 [==============================] - 0s 604us/step - loss: 0.3966 - accuracy: 0.8093\n",
      "Epoch 19/20\n",
      "170/170 [==============================] - 0s 794us/step - loss: 0.3966 - accuracy: 0.8095\n",
      "Epoch 20/20\n",
      "170/170 [==============================] - 0s 608us/step - loss: 0.3966 - accuracy: 0.8090\n"
     ]
    },
    {
     "data": {
      "image/png": "[encoded data removed]",
      "text/plain": [
       "<Figure size 640x480 with 1 Axes>"
      ]
     },
     "metadata": {},
     "output_type": "display_data"
    }
   ],
   "source": [
    "# The following variables are the hyperparameters.\n",
    "learning_rate = 0.001\n",
    "epochs = 20\n",
    "batch_size = 100\n",
    "label_name = \"median_house_value_is_high\"\n",
    "classification_threshold = 0.35\n",
    "\n",
    "# Establish the metrics the model will measure.\n",
    "METRICS = [\n",
    "           tf.keras.metrics.BinaryAccuracy(name='accuracy', \n",
    "                                           threshold=classification_threshold),\n",
    "          ]\n",
    "\n",
    "# Establish the model's topography.\n",
    "my_model = create_model(inputs, learning_rate, METRICS)\n",
    "\n",
    "# To view a PNG of this model's layers, uncomment the call to\n",
    "# `tf.keras.utils.plot_model` below. After running this code cell, click\n",
    "# the file folder on the left, then the `my_classification_model.png` file.\n",
    "# tf.keras.utils.plot_model(my_model, \"my_classification_model.png\")\n",
    "\n",
    "# Train the model on the training set.\n",
    "epochs, hist = train_model(my_model, train_df_norm, epochs, \n",
    "                           label_name, batch_size)\n",
    "\n",
    "# Plot a graph of the metric(s) vs. epochs.\n",
    "list_of_metrics_to_plot = ['accuracy'] \n",
    "\n",
    "plot_curve(epochs, hist, list_of_metrics_to_plot)"
   ]
  },
  {
   "cell_type": "code",
   "execution_count": 11,
   "metadata": {},
   "outputs": [
    {
     "name": "stdout",
     "output_type": "stream",
     "text": [
      "30/30 [==============================] - 0s 663us/step - loss: 0.4069 - accuracy: 0.8010\n"
     ]
    },
    {
     "name": "stderr",
     "output_type": "stream",
     "text": [
      "/home/franksitawa/anaconda3/lib/python3.10/site-packages/keras/src/engine/functional.py:639: UserWarning: Input dict contained keys ['longitude', 'latitude', 'housing_median_age', 'total_bedrooms', 'population', 'households', 'median_house_value'] which did not match any model input. They will be ignored by the model.\n",
      "  inputs = self._flatten_to_reference_inputs(inputs)\n"
     ]
    },
    {
     "data": {
      "text/plain": [
       "[0.4068555533885956, 0.8009999990463257]"
      ]
     },
     "execution_count": 11,
     "metadata": {},
     "output_type": "execute_result"
    }
   ],
   "source": [
    "features = {name:np.array(value) for name, value in test_df_norm.items()}\n",
    "label = np.array(features.pop(label_name))\n",
    "\n",
    "my_model.evaluate(x = features, y = label, batch_size=batch_size)"
   ]
  },
  {
   "cell_type": "code",
   "execution_count": null,
   "metadata": {},
   "outputs": [],
   "source": [
    "# A perfect model would make 100% accurate predictions.\n",
    "# Our model makes 80% accurate predictions. 80% sounds\n",
    "# good, but note that a model that always guesses \n",
    "# \"median_house_value_is_high is False\" would be 75% \n",
    "# accurate. "
   ]
  },
  {
   "cell_type": "code",
   "execution_count": 12,
   "metadata": {},
   "outputs": [
    {
     "name": "stdout",
     "output_type": "stream",
     "text": [
      "Epoch 1/20\n",
      "170/170 [==============================] - 0s 651us/step - loss: 0.5557 - accuracy: 0.5461 - precision: 0.3469 - recall: 0.9251\n",
      "Epoch 2/20\n",
      "170/170 [==============================] - 0s 657us/step - loss: 0.5101 - accuracy: 0.6184 - precision: 0.3855 - recall: 0.8882\n",
      "Epoch 3/20\n",
      "170/170 [==============================] - 0s 646us/step - loss: 0.4746 - accuracy: 0.6758 - precision: 0.4249 - recall: 0.8427\n",
      "Epoch 4/20\n",
      "170/170 [==============================] - 0s 659us/step - loss: 0.4479 - accuracy: 0.7151 - precision: 0.4593 - recall: 0.7928\n",
      "Epoch 5/20\n",
      "170/170 [==============================] - 0s 683us/step - loss: 0.4290 - accuracy: 0.7453 - precision: 0.4936 - recall: 0.7492\n",
      "Epoch 6/20\n",
      "170/170 [==============================] - 0s 781us/step - loss: 0.4155 - accuracy: 0.7666 - precision: 0.5245 - recall: 0.7069\n",
      "Epoch 7/20\n",
      "170/170 [==============================] - 0s 712us/step - loss: 0.4069 - accuracy: 0.7845 - precision: 0.5562 - recall: 0.6805\n",
      "Epoch 8/20\n",
      "170/170 [==============================] - 0s 690us/step - loss: 0.4016 - accuracy: 0.7954 - precision: 0.5796 - recall: 0.6586\n",
      "Epoch 9/20\n",
      "170/170 [==============================] - 0s 670us/step - loss: 0.3990 - accuracy: 0.8015 - precision: 0.5956 - recall: 0.6395\n",
      "Epoch 10/20\n",
      "170/170 [==============================] - 0s 658us/step - loss: 0.3977 - accuracy: 0.8062 - precision: 0.6085 - recall: 0.6284\n",
      "Epoch 11/20\n",
      "170/170 [==============================] - 0s 674us/step - loss: 0.3971 - accuracy: 0.8070 - precision: 0.6127 - recall: 0.6183\n",
      "Epoch 12/20\n",
      "170/170 [==============================] - 0s 661us/step - loss: 0.3968 - accuracy: 0.8075 - precision: 0.6144 - recall: 0.6167\n",
      "Epoch 13/20\n",
      "170/170 [==============================] - 0s 662us/step - loss: 0.3967 - accuracy: 0.8086 - precision: 0.6175 - recall: 0.6150\n",
      "Epoch 14/20\n",
      "170/170 [==============================] - 0s 674us/step - loss: 0.3967 - accuracy: 0.8086 - precision: 0.6175 - recall: 0.6148\n",
      "Epoch 15/20\n",
      "170/170 [==============================] - 0s 676us/step - loss: 0.3966 - accuracy: 0.8091 - precision: 0.6185 - recall: 0.6150\n",
      "Epoch 16/20\n",
      "170/170 [==============================] - 0s 657us/step - loss: 0.3966 - accuracy: 0.8090 - precision: 0.6184 - recall: 0.6148\n",
      "Epoch 17/20\n",
      "170/170 [==============================] - 0s 650us/step - loss: 0.3966 - accuracy: 0.8092 - precision: 0.6193 - recall: 0.6136\n",
      "Epoch 18/20\n",
      "170/170 [==============================] - 0s 949us/step - loss: 0.3966 - accuracy: 0.8090 - precision: 0.6188 - recall: 0.6131\n",
      "Epoch 19/20\n",
      "170/170 [==============================] - 0s 644us/step - loss: 0.3966 - accuracy: 0.8083 - precision: 0.6167 - recall: 0.6146\n",
      "Epoch 20/20\n",
      "170/170 [==============================] - 0s 744us/step - loss: 0.3966 - accuracy: 0.8094 - precision: 0.6196 - recall: 0.6141\n"
     ]
    },
    {
     "data": {
      "image/png": "[encoded data removed]",
      "text/plain": [
       "<Figure size 640x480 with 1 Axes>"
      ]
     },
     "metadata": {},
     "output_type": "display_data"
    }
   ],
   "source": [
    "#@title Double-click to view the solution for Task 3.\n",
    "\n",
    "# The following variables are the hyperparameters.\n",
    "learning_rate = 0.001\n",
    "epochs = 20\n",
    "batch_size = 100\n",
    "classification_threshold = 0.35\n",
    "label_name = \"median_house_value_is_high\"\n",
    "\n",
    "# Here is the updated definition of METRICS:\n",
    "METRICS = [\n",
    "      tf.keras.metrics.BinaryAccuracy(name='accuracy', \n",
    "                                      threshold=classification_threshold),\n",
    "      tf.keras.metrics.Precision(thresholds=classification_threshold,\n",
    "                                 name='precision' \n",
    "                                 ),\n",
    "      tf.keras.metrics.Recall(thresholds=classification_threshold,\n",
    "                              name=\"recall\"),\n",
    "]\n",
    "\n",
    "# Establish the model's topography.\n",
    "my_model = create_model(inputs, learning_rate, METRICS)\n",
    "\n",
    "# Train the model on the training set.\n",
    "epochs, hist = train_model(my_model, train_df_norm, epochs, \n",
    "                           label_name, batch_size)\n",
    "\n",
    "# Plot metrics vs. epochs\n",
    "list_of_metrics_to_plot = ['accuracy', \"precision\", \"recall\"] \n",
    "plot_curve(epochs, hist, list_of_metrics_to_plot)\n",
    "\n",
    "\n",
    "# The new graphs suggest that precision and recall are \n",
    "# somewhat in conflict. That is, improvements to one of\n",
    "# those metrics may hurt the other metric."
   ]
  },
  {
   "cell_type": "code",
   "execution_count": 13,
   "metadata": {},
   "outputs": [
    {
     "name": "stdout",
     "output_type": "stream",
     "text": [
      "Epoch 1/20\n"
     ]
    },
    {
     "name": "stderr",
     "output_type": "stream",
     "text": [
      "/home/franksitawa/anaconda3/lib/python3.10/site-packages/keras/src/engine/functional.py:639: UserWarning: Input dict contained keys ['longitude', 'latitude', 'housing_median_age', 'total_bedrooms', 'population', 'households', 'median_house_value'] which did not match any model input. They will be ignored by the model.\n",
      "  inputs = self._flatten_to_reference_inputs(inputs)\n"
     ]
    },
    {
     "name": "stdout",
     "output_type": "stream",
     "text": [
      "170/170 [==============================] - 0s 709us/step - loss: 0.6311 - accuracy: 0.7318 - precision: 0.4744 - recall: 0.6793\n",
      "Epoch 2/20\n",
      "170/170 [==============================] - 0s 682us/step - loss: 0.5770 - accuracy: 0.7524 - precision: 0.5033 - recall: 0.6555\n",
      "Epoch 3/20\n",
      "170/170 [==============================] - 0s 668us/step - loss: 0.5312 - accuracy: 0.7720 - precision: 0.5373 - recall: 0.6299\n",
      "Epoch 4/20\n",
      "170/170 [==============================] - 0s 691us/step - loss: 0.4922 - accuracy: 0.7882 - precision: 0.5721 - recall: 0.6044\n",
      "Epoch 5/20\n",
      "170/170 [==============================] - 0s 966us/step - loss: 0.4607 - accuracy: 0.8007 - precision: 0.6071 - recall: 0.5733\n",
      "Epoch 6/20\n",
      "170/170 [==============================] - 0s 791us/step - loss: 0.4366 - accuracy: 0.8131 - precision: 0.6509 - recall: 0.5430\n",
      "Epoch 7/20\n",
      "170/170 [==============================] - 0s 880us/step - loss: 0.4185 - accuracy: 0.8219 - precision: 0.6924 - recall: 0.5168\n",
      "Epoch 8/20\n",
      "170/170 [==============================] - 0s 843us/step - loss: 0.4073 - accuracy: 0.8273 - precision: 0.7280 - recall: 0.4928\n",
      "Epoch 9/20\n",
      "170/170 [==============================] - 0s 1ms/step - loss: 0.4013 - accuracy: 0.8315 - precision: 0.7586 - recall: 0.4773\n",
      "Epoch 10/20\n",
      "170/170 [==============================] - 0s 804us/step - loss: 0.3986 - accuracy: 0.8348 - precision: 0.7802 - recall: 0.4714\n",
      "Epoch 11/20\n",
      "170/170 [==============================] - 0s 660us/step - loss: 0.3974 - accuracy: 0.8361 - precision: 0.7872 - recall: 0.4712\n",
      "Epoch 12/20\n",
      "170/170 [==============================] - 0s 688us/step - loss: 0.3970 - accuracy: 0.8365 - precision: 0.7881 - recall: 0.4728\n",
      "Epoch 13/20\n",
      "170/170 [==============================] - 0s 680us/step - loss: 0.3968 - accuracy: 0.8365 - precision: 0.7910 - recall: 0.4697\n",
      "Epoch 14/20\n",
      "170/170 [==============================] - 0s 658us/step - loss: 0.3967 - accuracy: 0.8360 - precision: 0.7882 - recall: 0.4697\n",
      "Epoch 15/20\n",
      "170/170 [==============================] - 0s 676us/step - loss: 0.3966 - accuracy: 0.8358 - precision: 0.7850 - recall: 0.4719\n",
      "Epoch 16/20\n",
      "170/170 [==============================] - 0s 682us/step - loss: 0.3966 - accuracy: 0.8361 - precision: 0.7867 - recall: 0.4716\n",
      "Epoch 17/20\n",
      "170/170 [==============================] - 0s 677us/step - loss: 0.3966 - accuracy: 0.8358 - precision: 0.7843 - recall: 0.4726\n",
      "Epoch 18/20\n",
      "170/170 [==============================] - 0s 666us/step - loss: 0.3966 - accuracy: 0.8362 - precision: 0.7858 - recall: 0.4733\n",
      "Epoch 19/20\n",
      "170/170 [==============================] - 0s 639us/step - loss: 0.3966 - accuracy: 0.8362 - precision: 0.7829 - recall: 0.4763\n",
      "Epoch 20/20\n",
      "170/170 [==============================] - 0s 687us/step - loss: 0.3966 - accuracy: 0.8358 - precision: 0.7852 - recall: 0.4716\n"
     ]
    },
    {
     "data": {
      "image/png": "[encoded data removed]",
      "text/plain": [
       "<Figure size 640x480 with 1 Axes>"
      ]
     },
     "metadata": {},
     "output_type": "display_data"
    }
   ],
   "source": [
    "#@title Double-click to view the solution for Task 4.\n",
    "\n",
    "# The following variables are the hyperparameters.\n",
    "learning_rate = 0.001\n",
    "epochs = 20\n",
    "batch_size = 100\n",
    "classification_threshold = 0.52\n",
    "label_name = \"median_house_value_is_high\"\n",
    "\n",
    "# Here is the updated definition of METRICS:\n",
    "METRICS = [\n",
    "      tf.keras.metrics.BinaryAccuracy(name='accuracy', \n",
    "                                      threshold=classification_threshold),\n",
    "      tf.keras.metrics.Precision(thresholds=classification_threshold,\n",
    "                                 name='precision' \n",
    "                                 ),\n",
    "      tf.keras.metrics.Recall(thresholds=classification_threshold,\n",
    "                              name=\"recall\"),\n",
    "]\n",
    "\n",
    "# Establish the model's topography.\n",
    "my_model = create_model(inputs, learning_rate, METRICS)\n",
    "\n",
    "# Train the model on the training set.\n",
    "epochs, hist = train_model(my_model, train_df_norm, epochs, \n",
    "                           label_name, batch_size)\n",
    "\n",
    "# Plot metrics vs. epochs\n",
    "list_of_metrics_to_plot = ['accuracy', \"precision\", \"recall\"] \n",
    "plot_curve(epochs, hist, list_of_metrics_to_plot)\n",
    "\n",
    "# A `classification_threshold` of slightly over 0.5\n",
    "# appears to produce the highest accuracy (about 83%).\n",
    "# Raising the `classification_threshold` to 0.9 drops \n",
    "# accuracy by about 5%.  Lowering the \n",
    "# `classification_threshold` to 0.3 drops accuracy by \n",
    "# about 3%. "
   ]
  },
  {
   "cell_type": "code",
   "execution_count": 14,
   "metadata": {},
   "outputs": [
    {
     "name": "stdout",
     "output_type": "stream",
     "text": [
      "Epoch 1/20\n",
      "  1/170 [..............................] - ETA: 33s - loss: 0.8222 - auc: 0.1679"
     ]
    },
    {
     "name": "stderr",
     "output_type": "stream",
     "text": [
      "/home/franksitawa/anaconda3/lib/python3.10/site-packages/keras/src/engine/functional.py:639: UserWarning: Input dict contained keys ['longitude', 'latitude', 'housing_median_age', 'total_bedrooms', 'population', 'households', 'median_house_value'] which did not match any model input. They will be ignored by the model.\n",
      "  inputs = self._flatten_to_reference_inputs(inputs)\n"
     ]
    },
    {
     "name": "stdout",
     "output_type": "stream",
     "text": [
      "170/170 [==============================] - 0s 919us/step - loss: 0.7613 - auc: 0.1752\n",
      "Epoch 2/20\n",
      "170/170 [==============================] - 0s 651us/step - loss: 0.6714 - auc: 0.2146\n",
      "Epoch 3/20\n",
      "170/170 [==============================] - 0s 681us/step - loss: 0.6008 - auc: 0.6392\n",
      "Epoch 4/20\n",
      "170/170 [==============================] - 0s 646us/step - loss: 0.5456 - auc: 0.7965\n",
      "Epoch 5/20\n",
      "170/170 [==============================] - 0s 655us/step - loss: 0.5033 - auc: 0.8193\n",
      "Epoch 6/20\n",
      "170/170 [==============================] - 0s 659us/step - loss: 0.4712 - auc: 0.8270\n",
      "Epoch 7/20\n",
      "170/170 [==============================] - 0s 661us/step - loss: 0.4475 - auc: 0.8320\n",
      "Epoch 8/20\n",
      "170/170 [==============================] - 0s 675us/step - loss: 0.4305 - auc: 0.8344\n",
      "Epoch 9/20\n",
      "170/170 [==============================] - 0s 683us/step - loss: 0.4186 - auc: 0.8355\n",
      "Epoch 10/20\n",
      "170/170 [==============================] - 0s 656us/step - loss: 0.4101 - auc: 0.8357\n",
      "Epoch 11/20\n",
      "170/170 [==============================] - 0s 656us/step - loss: 0.4045 - auc: 0.8362\n",
      "Epoch 12/20\n",
      "170/170 [==============================] - 0s 653us/step - loss: 0.4010 - auc: 0.8365\n",
      "Epoch 13/20\n",
      "170/170 [==============================] - 0s 666us/step - loss: 0.3989 - auc: 0.8367\n",
      "Epoch 14/20\n",
      "170/170 [==============================] - 0s 741us/step - loss: 0.3978 - auc: 0.8366\n",
      "Epoch 15/20\n",
      "170/170 [==============================] - 0s 855us/step - loss: 0.3972 - auc: 0.8368\n",
      "Epoch 16/20\n",
      "170/170 [==============================] - 0s 649us/step - loss: 0.3969 - auc: 0.8369\n",
      "Epoch 17/20\n",
      "170/170 [==============================] - 0s 652us/step - loss: 0.3968 - auc: 0.8367\n",
      "Epoch 18/20\n",
      "170/170 [==============================] - 0s 661us/step - loss: 0.3967 - auc: 0.8368\n",
      "Epoch 19/20\n",
      "170/170 [==============================] - 0s 650us/step - loss: 0.3966 - auc: 0.8368\n",
      "Epoch 20/20\n",
      "170/170 [==============================] - 0s 652us/step - loss: 0.3966 - auc: 0.8370\n"
     ]
    },
    {
     "data": {
      "image/png": "[encoded data removed]",
      "text/plain": [
       "<Figure size 640x480 with 1 Axes>"
      ]
     },
     "metadata": {},
     "output_type": "display_data"
    }
   ],
   "source": [
    "# The following variables are the hyperparameters.\n",
    "learning_rate = 0.001\n",
    "epochs = 20\n",
    "batch_size = 100\n",
    "label_name = \"median_house_value_is_high\"\n",
    "\n",
    "# AUC is a reasonable \"summary\" metric for \n",
    "# classification models.\n",
    "# Here is the updated definition of METRICS to \n",
    "# measure AUC:\n",
    "METRICS = [\n",
    "      tf.keras.metrics.AUC(num_thresholds=100, name='auc'),\n",
    "]\n",
    "\n",
    "# Establish the model's topography.\n",
    "my_model = create_model(inputs, learning_rate, METRICS)\n",
    "\n",
    "# Train the model on the training set.\n",
    "epochs, hist = train_model(my_model, train_df_norm, epochs, \n",
    "                           label_name, batch_size)\n",
    "\n",
    "# Plot metrics vs. epochs\n",
    "list_of_metrics_to_plot = ['auc'] \n",
    "plot_curve(epochs, hist, list_of_metrics_to_plot)"
   ]
  }
 ],
 "metadata": {
  "kernelspec": {
   "display_name": "base",
   "language": "python",
   "name": "python3"
  },
  "language_info": {
   "codemirror_mode": {
    "name": "ipython",
    "version": 3
   },
   "file_extension": ".py",
   "mimetype": "text/x-python",
   "name": "python",
   "nbconvert_exporter": "python",
   "pygments_lexer": "ipython3",
   "version": "3.10.9"
  },
  "orig_nbformat": 4
 },
 "nbformat": 4,
 "nbformat_minor": 2
}
