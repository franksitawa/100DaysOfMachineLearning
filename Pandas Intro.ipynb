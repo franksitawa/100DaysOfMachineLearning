{
 "cells": [
  {
   "cell_type": "code",
   "execution_count": 1,
   "metadata": {},
   "outputs": [],
   "source": [
    "import numpy as np\n",
    "import pandas as pd"
   ]
  },
  {
   "cell_type": "code",
   "execution_count": 2,
   "metadata": {},
   "outputs": [
    {
     "name": "stdout",
     "output_type": "stream",
     "text": [
      "   temperature  activity\n",
      "0            0         3\n",
      "1           10         7\n",
      "2           20         9\n",
      "3           30        14\n",
      "4           40        15\n"
     ]
    }
   ],
   "source": [
    "my_data=np.array([[0,3],[10,7],[20,9],[30,14],[40,15]])\n",
    "my_column_names=['temperature','activity']\n",
    "my_dataframe=pd.DataFrame(data=my_data,columns=my_column_names)\n",
    "\n",
    "print(my_dataframe)"
   ]
  },
  {
   "cell_type": "code",
   "execution_count": 3,
   "metadata": {},
   "outputs": [
    {
     "name": "stdout",
     "output_type": "stream",
     "text": [
      "   temperature  activity  adjusted\n",
      "0            0         3         5\n",
      "1           10         7         9\n",
      "2           20         9        11\n",
      "3           30        14        16\n",
      "4           40        15        17\n"
     ]
    }
   ],
   "source": [
    "my_dataframe[\"adjusted\"]=my_dataframe[\"activity\"]+2\n",
    "print(my_dataframe)"
   ]
  },
  {
   "cell_type": "code",
   "execution_count": 5,
   "metadata": {},
   "outputs": [
    {
     "name": "stdout",
     "output_type": "stream",
     "text": [
      "Rows #0, #1, and #2\n",
      "   temperature  activity  adjusted\n",
      "0            0         3         5\n",
      "1           10         7         9\n",
      "2           20         9        11 \n",
      "\n",
      "Row #2:\n",
      "   temperature  activity  adjusted\n",
      "2           20         9        11 \n",
      "\n",
      "Rows #1, #2 and #3\n",
      "   temperature  activity  adjusted\n",
      "1           10         7         9\n",
      "2           20         9        11\n",
      "3           30        14        16 \n",
      "\n",
      "Column 'temperature':\n",
      "0     0\n",
      "1    10\n",
      "2    20\n",
      "3    30\n",
      "4    40\n",
      "Name: temperature, dtype: int64\n"
     ]
    }
   ],
   "source": [
    "print(\"Rows #0, #1, and #2\")\n",
    "print(my_dataframe.head(3),'\\n')\n",
    "\n",
    "print(\"Row #2:\")\n",
    "print(my_dataframe.iloc[[2]],'\\n')\n",
    "\n",
    "print(\"Rows #1, #2 and #3\")\n",
    "print(my_dataframe[1:4],'\\n')\n",
    "\n",
    "print(\"Column 'temperature':\")\n",
    "print(my_dataframe['temperature'])"
   ]
  },
  {
   "cell_type": "code",
   "execution_count": 11,
   "metadata": {},
   "outputs": [
    {
     "name": "stdout",
     "output_type": "stream",
     "text": [
      "   Eleanor  Chidi  Tahani  Jason\n",
      "0       24     78      81     79\n",
      "1       45     28      33     18\n",
      "2       77     26      38     40\n",
      "0    24\n",
      "1    45\n",
      "2    77\n",
      "Name: Eleanor, dtype: int64\n",
      "   Eleanor  Chidi  Tahani  Jason  Janet\n",
      "0       24     78      81     79    160\n",
      "1       45     28      33     18     51\n",
      "2       77     26      38     40     78\n"
     ]
    }
   ],
   "source": [
    "data=np.array(np.random.randint(low=0,high=101,size=(3,4)))\n",
    "column_names=['Eleanor','Chidi','Tahani','Jason']\n",
    "df=pd.DataFrame(data=data,columns=column_names)\n",
    "print(df)\n",
    "print(df['Eleanor'])\n",
    "df['Janet']=df['Tahani']+df['Jason']\n",
    "print(df)"
   ]
  },
  {
   "cell_type": "code",
   "execution_count": 12,
   "metadata": {},
   "outputs": [
    {
     "name": "stdout",
     "output_type": "stream",
     "text": [
      "Experiment with a reference:\n",
      "  Starting value of df: 18\n",
      "  Starting value of reference_to_df: 18\n",
      "\n",
      "  Updated df: 23\n",
      "  Updated reference_to_df: 23\n",
      "\n",
      "\n",
      "Experiment with a true copy:\n",
      "  Starting value of my_dataframe: 7\n",
      "  Starting value of copy_of_my_dataframe: 7\n",
      "\n",
      "  Updated my_dataframe: 10\n",
      "  copy_of_my_dataframe does not get updated: 7\n"
     ]
    }
   ],
   "source": [
    "# Create a reference by assigning my_dataframe to a new variable.\n",
    "print(\"Experiment with a reference:\")\n",
    "reference_to_df = df\n",
    "\n",
    "# Print the starting value of a particular cell.\n",
    "print(\"  Starting value of df: %d\" % df['Jason'][1])\n",
    "print(\"  Starting value of reference_to_df: %d\\n\" % reference_to_df['Jason'][1])\n",
    "\n",
    "# Modify a cell in df.\n",
    "df.at[1, 'Jason'] = df['Jason'][1] + 5\n",
    "print(\"  Updated df: %d\" % df['Jason'][1])\n",
    "print(\"  Updated reference_to_df: %d\\n\\n\" % reference_to_df['Jason'][1])\n",
    "\n",
    "# Create a true copy of my_dataframe\n",
    "print(\"Experiment with a true copy:\")\n",
    "copy_of_my_dataframe = my_dataframe.copy()\n",
    "\n",
    "# Print the starting value of a particular cell.\n",
    "print(\"  Starting value of my_dataframe: %d\" % my_dataframe['activity'][1])\n",
    "print(\"  Starting value of copy_of_my_dataframe: %d\\n\" % copy_of_my_dataframe['activity'][1])\n",
    "\n",
    "# Modify a cell in df.\n",
    "my_dataframe.at[1, 'activity'] = my_dataframe['activity'][1] + 3\n",
    "print(\"  Updated my_dataframe: %d\" % my_dataframe['activity'][1])\n",
    "print(\"  copy_of_my_dataframe does not get updated: %d\" % copy_of_my_dataframe['activity'][1])"
   ]
  }
 ],
 "metadata": {
  "kernelspec": {
   "display_name": "base",
   "language": "python",
   "name": "python3"
  },
  "language_info": {
   "codemirror_mode": {
    "name": "ipython",
    "version": 3
   },
   "file_extension": ".py",
   "mimetype": "text/x-python",
   "name": "python",
   "nbconvert_exporter": "python",
   "pygments_lexer": "ipython3",
   "version": "3.10.9"
  },
  "orig_nbformat": 4
 },
 "nbformat": 4,
 "nbformat_minor": 2
}
