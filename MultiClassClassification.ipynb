{
 "cells": [
  {
   "cell_type": "code",
   "execution_count": 1,
   "metadata": {},
   "outputs": [
    {
     "name": "stderr",
     "output_type": "stream",
     "text": [
      "2023-07-25 10:39:50.786457: I tensorflow/core/util/port.cc:110] oneDNN custom operations are on. You may see slightly different numerical results due to floating-point round-off errors from different computation orders. To turn them off, set the environment variable `TF_ENABLE_ONEDNN_OPTS=0`.\n",
      "2023-07-25 10:39:50.827178: I tensorflow/tsl/cuda/cudart_stub.cc:28] Could not find cuda drivers on your machine, GPU will not be used.\n",
      "2023-07-25 10:39:51.105502: I tensorflow/tsl/cuda/cudart_stub.cc:28] Could not find cuda drivers on your machine, GPU will not be used.\n",
      "2023-07-25 10:39:51.107033: I tensorflow/core/platform/cpu_feature_guard.cc:182] This TensorFlow binary is optimized to use available CPU instructions in performance-critical operations.\n",
      "To enable the following instructions: AVX2 AVX512F AVX512_VNNI FMA, in other operations, rebuild TensorFlow with the appropriate compiler flags.\n",
      "2023-07-25 10:39:52.039936: W tensorflow/compiler/tf2tensorrt/utils/py_utils.cc:38] TF-TRT Warning: Could not find TensorRT\n"
     ]
    }
   ],
   "source": [
    "#@title Import relevant modules\n",
    "import numpy as np\n",
    "import pandas as pd\n",
    "import tensorflow as tf\n",
    "from tensorflow.keras import layers\n",
    "from matplotlib import pyplot as plt\n",
    "\n",
    "# The following lines adjust the granularity of reporting. \n",
    "pd.options.display.max_rows = 10\n",
    "pd.options.display.float_format = \"{:.1f}\".format\n",
    "\n",
    "# The following line improves formatting when ouputting NumPy arrays.\n",
    "np.set_printoptions(linewidth = 200)"
   ]
  },
  {
   "cell_type": "code",
   "execution_count": 2,
   "metadata": {},
   "outputs": [
    {
     "name": "stdout",
     "output_type": "stream",
     "text": [
      "Downloading data from https://storage.googleapis.com/tensorflow/tf-keras-datasets/mnist.npz\n",
      "11490434/11490434 [==============================] - 19s 2us/step\n"
     ]
    }
   ],
   "source": [
    "(x_train, y_train),(x_test, y_test) = tf.keras.datasets.mnist.load_data()"
   ]
  },
  {
   "cell_type": "code",
   "execution_count": 3,
   "metadata": {},
   "outputs": [
    {
     "data": {
      "text/plain": [
       "array([[  0,   0,   0,   0,   0,   0,   0,   0,   0,   0,   0,   0,   0,   0,   0,   0,   0,   0,   0,   0,   0,   0,   0,   0,   0,   0,   0,   0],\n",
       "       [  0,   0,   0,   0,   0,   0,   0,   0,   0,   0,   0,   0,   0,   0,   0,   0,   0,   0,   0,   0,   0,   0,   0,   0,   0,   0,   0,   0],\n",
       "       [  0,   0,   0,   0,   0,   0,   0,   0,   0,   0,   0,   0,   0,   0,   0,   0,   0,   0,   0,   0,   0,   0,   0,   0,   0,   0,   0,   0],\n",
       "       [  0,   0,   0,   0,   0,   0,   0,   0,   0,   0,   0,   0,   0,   0,   0,   0,   0,   0,   0,   0,   0,   0,   0,   0,   0,   0,   0,   0],\n",
       "       [  0,   0,   0,   0,   0,   0,   0,   0,   0,   0,   0,   0,   0,   0,   0,   0,   0,   0,   0,   0,   0,   0,   0,   0,   0,   0,   0,   0],\n",
       "       [  0,   0,   0,   0,   0,   0,   0,   0,   0,   0,   0,   0,   0,   0,   0,   0,   0,   0,   0,   0,   0,   0,   0,   0,   0,   0,   0,   0],\n",
       "       [  0,   0,   0,   0,   0,   0,   0,   0, 127, 100, 156, 239, 224, 177, 213, 159,  70,  13,   0,   0,   0,   0,   0,   0,   0,   0,   0,   0],\n",
       "       [  0,   0,   0,   0,   0,   0,   0, 110, 250, 254, 254, 254, 254, 254, 254, 254, 254, 184,  10,   0,   0,   0,   0,   0,   0,   0,   0,   0],\n",
       "       [  0,   0,   0,   0,   0,   0,   0, 216, 254, 254, 254, 254, 254, 254, 254, 254, 254, 251,  54,   0,   0,   0,   0,   0,   0,   0,   0,   0],\n",
       "       [  0,   0,   0,   0,   0,   0,   0,   3, 131, 197,  68, 137, 101,  83,  41,  70, 221, 254, 108,   0,   0,   0,   0,   0,   0,   0,   0,   0],\n",
       "       [  0,   0,   0,   0,   0,   0,   0,   0,   0,   0,   0,   0,   0,   0,   0,   0,  58, 254, 216,  11,   0,   0,   0,   0,   0,   0,   0,   0],\n",
       "       [  0,   0,   0,   0,   0,   0,   0,   0,   0,   0,   0,   0,   0,   0,   0,   0, 110, 254, 254,  24,   0,   0,   0,   0,   0,   0,   0,   0],\n",
       "       [  0,   0,   0,   0,   0,   0,   0,   0,   0,   0,   0,   0,   0,   0,   4,  83, 247, 254, 192,  10,   0,   0,   0,   0,   0,   0,   0,   0],\n",
       "       [  0,   0,   0,   0,   0,   0,   0,   0,   0,   0,   0,   0,   0,  37, 124, 254, 254, 250,  47,   0,   0,   0,   0,   0,   0,   0,   0,   0],\n",
       "       [  0,   0,   0,   0,   0,   0,   0,   0,   0,   0,   0, 113, 178, 250, 254, 254, 254, 252, 178, 128,  50,   0,   0,   0,   0,   0,   0,   0],\n",
       "       [  0,   0,   0,   0,   0,   0,   0,   0,   0,   0,  69, 252, 254, 254, 254, 254, 254, 254, 254, 254, 153,   0,   0,   0,   0,   0,   0,   0],\n",
       "       [  0,   0,   0,   0,   0,   0,   0,   0,   0,   0, 141, 252, 254, 241, 241, 254, 247, 252, 254, 254, 153,   0,   0,   0,   0,   0,   0,   0],\n",
       "       [  0,   0,   0,   0,   0,   0,   0,   0,   0,   0,   0,  68,  82,   5,   5,  82,  37,  65, 167, 254, 190,   0,   0,   0,   0,   0,   0,   0],\n",
       "       [  0,   0,   0,   0,   0,   0,   0,   0,   0,   0,   0,   0,   0,   0,   0,   0,   0,   0, 162, 254, 153,   0,   0,   0,   0,   0,   0,   0],\n",
       "       [  0,   0,   0,   0,   0,   0,   0,   0,   0,   0,   0,   0,   0,   0,   0,   0,   0,   1, 172, 253,  75,   0,   0,   0,   0,   0,   0,   0],\n",
       "       [  0,   0,   0,   0,   0,   0,   0,   0,   0,   0,   0,   0,   0,   0,   0,   0,   0, 102, 254, 152,   0,   0,   0,   0,   0,   0,   0,   0],\n",
       "       [  0,   0,   0,   0,   0,   0,   0,   0,   0,   0,   0,   0,   0,   0,   0,   0,  38, 230, 216,  20,   0,   0,   0,   0,   0,   0,   0,   0],\n",
       "       [  0,   0,   0,   0,   0,   0,   0,   0,   0,   0,   0,   0,   0,   0,   1,  71, 222, 254, 142,   0,   0,   0,   0,   0,   0,   0,   0,   0],\n",
       "       [  0,   0,   0,   0,   0,   0,   0,   0,   0,   0,   0,   0,   0,   0,  66, 254, 254, 157,   0,   0,   0,   0,   0,   0,   0,   0,   0,   0],\n",
       "       [  0,   0,   0,   0,   0,   0,   0,   0,   4,  34,  34,  78, 161, 226, 249, 254, 154,   6,   0,   0,   0,   0,   0,   0,   0,   0,   0,   0],\n",
       "       [  0,   0,   0,   0,   0,   0,   0,  96, 184, 254, 254, 254, 254, 254, 249,  93,   5,   0,   0,   0,   0,   0,   0,   0,   0,   0,   0,   0],\n",
       "       [  0,   0,   0,   0,   0,   0,   0,   0,   0,   0,   0,   0,   0,   0,   0,   0,   0,   0,   0,   0,   0,   0,   0,   0,   0,   0,   0,   0],\n",
       "       [  0,   0,   0,   0,   0,   0,   0,   0,   0,   0,   0,   0,   0,   0,   0,   0,   0,   0,   0,   0,   0,   0,   0,   0,   0,   0,   0,   0]], dtype=uint8)"
      ]
     },
     "execution_count": 3,
     "metadata": {},
     "output_type": "execute_result"
    }
   ],
   "source": [
    "x_train[2917]"
   ]
  },
  {
   "cell_type": "code",
   "execution_count": 4,
   "metadata": {},
   "outputs": [
    {
     "data": {
      "text/plain": [
       "<matplotlib.image.AxesImage at 0x7f69b8f26ad0>"
      ]
     },
     "execution_count": 4,
     "metadata": {},
     "output_type": "execute_result"
    },
    {
     "data": {
      "image/png": "[encoded data removed]",
      "text/plain": [
       "<Figure size 640x480 with 1 Axes>"
      ]
     },
     "metadata": {},
     "output_type": "display_data"
    }
   ],
   "source": [
    "plt.imshow(x_train[2917])"
   ]
  },
  {
   "cell_type": "code",
   "execution_count": 5,
   "metadata": {},
   "outputs": [
    {
     "data": {
      "text/plain": [
       "array([  0,   0,   0,   0,   0,   0,   0,   0,   0,   0,   0,   0,   0,   0,   0,   0,  58, 254, 216,  11,   0,   0,   0,   0,   0,   0,   0,   0], dtype=uint8)"
      ]
     },
     "execution_count": 5,
     "metadata": {},
     "output_type": "execute_result"
    }
   ],
   "source": [
    "x_train[2917][10]"
   ]
  },
  {
   "cell_type": "code",
   "execution_count": 6,
   "metadata": {},
   "outputs": [
    {
     "data": {
      "text/plain": [
       "0"
      ]
     },
     "execution_count": 6,
     "metadata": {},
     "output_type": "execute_result"
    }
   ],
   "source": [
    "x_train[2900][10][16]"
   ]
  },
  {
   "cell_type": "code",
   "execution_count": 7,
   "metadata": {},
   "outputs": [
    {
     "name": "stdout",
     "output_type": "stream",
     "text": [
      "[0.         0.         0.         0.         0.         0.         0.         0.55294118 1.         0.66666667 0.11372549 0.         0.         0.         0.         0.         0.         0.\n",
      " 0.         0.         0.         0.         0.         0.         0.         0.         0.         0.        ]\n"
     ]
    }
   ],
   "source": [
    "x_train_normalized = x_train/255\n",
    "x_test_normalized = x_test/255\n",
    "print(x_train_normalized[2900][10]) # Output a normalized row"
   ]
  },
  {
   "cell_type": "code",
   "execution_count": 8,
   "metadata": {},
   "outputs": [
    {
     "name": "stdout",
     "output_type": "stream",
     "text": [
      "Loaded the plot_curve function.\n"
     ]
    }
   ],
   "source": [
    "def plot_curve(epochs, hist, list_of_metrics):\n",
    "  \"\"\"Plot a curve of one or more classification metrics vs. epoch.\"\"\"  \n",
    "  # list_of_metrics should be one of the names shown in:\n",
    "  # https://www.tensorflow.org/tutorials/structured_data/imbalanced_data#define_the_model_and_metrics  \n",
    "\n",
    "  plt.figure()\n",
    "  plt.xlabel(\"Epoch\")\n",
    "  plt.ylabel(\"Value\")\n",
    "\n",
    "  for m in list_of_metrics:\n",
    "    x = hist[m]\n",
    "    plt.plot(epochs[1:], x[1:], label=m)\n",
    "\n",
    "  plt.legend()\n",
    "\n",
    "print(\"Loaded the plot_curve function.\")"
   ]
  },
  {
   "cell_type": "code",
   "execution_count": 9,
   "metadata": {},
   "outputs": [],
   "source": [
    "def create_model(my_learning_rate):\n",
    "  \"\"\"Create and compile a deep neural net.\"\"\"\n",
    "  \n",
    "  # All models in this course are sequential.\n",
    "  model = tf.keras.models.Sequential()\n",
    "\n",
    "  # The features are stored in a two-dimensional 28X28 array. \n",
    "  # Flatten that two-dimensional array into a one-dimensional \n",
    "  # 784-element array.\n",
    "  model.add(tf.keras.layers.Flatten(input_shape=(28, 28)))\n",
    "\n",
    "  # Define the first hidden layer.   \n",
    "  model.add(tf.keras.layers.Dense(units=32, activation='relu'))\n",
    "  \n",
    "  # Define a dropout regularization layer. \n",
    "  model.add(tf.keras.layers.Dropout(rate=0.2))\n",
    "\n",
    "  # Define the output layer. The units parameter is set to 10 because\n",
    "  # the model must choose among 10 possible output values (representing\n",
    "  # the digits from 0 to 9, inclusive).\n",
    "  #\n",
    "  # Don't change this layer.\n",
    "  model.add(tf.keras.layers.Dense(units=10, activation='softmax'))     \n",
    "                           \n",
    "  # Construct the layers into a model that TensorFlow can execute.  \n",
    "  # Notice that the loss function for multi-class classification\n",
    "  # is different than the loss function for binary classification.  \n",
    "  model.compile(optimizer=tf.keras.optimizers.Adam(learning_rate=my_learning_rate),\n",
    "                loss=\"sparse_categorical_crossentropy\",\n",
    "                metrics=['accuracy'])\n",
    "  \n",
    "  return model    \n",
    "\n",
    "\n",
    "def train_model(model, train_features, train_label, epochs,\n",
    "                batch_size=None, validation_split=0.1):\n",
    "  \"\"\"Train the model by feeding it data.\"\"\"\n",
    "\n",
    "  history = model.fit(x=train_features, y=train_label, batch_size=batch_size,\n",
    "                      epochs=epochs, shuffle=True, \n",
    "                      validation_split=validation_split)\n",
    " \n",
    "  # To track the progression of training, gather a snapshot\n",
    "  # of the model's metrics at each epoch. \n",
    "  epochs = history.epoch\n",
    "  hist = pd.DataFrame(history.history)\n",
    "\n",
    "  return epochs, hist    "
   ]
  },
  {
   "cell_type": "code",
   "execution_count": 10,
   "metadata": {},
   "outputs": [
    {
     "name": "stdout",
     "output_type": "stream",
     "text": [
      "Epoch 1/50\n",
      "12/12 [==============================] - 1s 26ms/step - loss: 1.6218 - accuracy: 0.4864 - val_loss: 0.8764 - val_accuracy: 0.8087\n",
      "Epoch 2/50\n",
      "12/12 [==============================] - 0s 6ms/step - loss: 0.8352 - accuracy: 0.7546 - val_loss: 0.5013 - val_accuracy: 0.8721\n",
      "Epoch 3/50\n",
      "12/12 [==============================] - 0s 6ms/step - loss: 0.6113 - accuracy: 0.8182 - val_loss: 0.4050 - val_accuracy: 0.8939\n",
      "Epoch 4/50\n",
      "12/12 [==============================] - 0s 6ms/step - loss: 0.5106 - accuracy: 0.8480 - val_loss: 0.3531 - val_accuracy: 0.9047\n",
      "Epoch 5/50\n",
      "12/12 [==============================] - 0s 6ms/step - loss: 0.4597 - accuracy: 0.8634 - val_loss: 0.3221 - val_accuracy: 0.9124\n",
      "Epoch 6/50\n",
      "12/12 [==============================] - 0s 6ms/step - loss: 0.4254 - accuracy: 0.8742 - val_loss: 0.2995 - val_accuracy: 0.9197\n",
      "Epoch 7/50\n",
      "12/12 [==============================] - 0s 6ms/step - loss: 0.3969 - accuracy: 0.8848 - val_loss: 0.2821 - val_accuracy: 0.9235\n",
      "Epoch 8/50\n",
      "12/12 [==============================] - 0s 6ms/step - loss: 0.3739 - accuracy: 0.8916 - val_loss: 0.2691 - val_accuracy: 0.9270\n",
      "Epoch 9/50\n",
      "12/12 [==============================] - 0s 6ms/step - loss: 0.3610 - accuracy: 0.8937 - val_loss: 0.2598 - val_accuracy: 0.9291\n",
      "Epoch 10/50\n",
      "12/12 [==============================] - 0s 6ms/step - loss: 0.3474 - accuracy: 0.8988 - val_loss: 0.2491 - val_accuracy: 0.9314\n",
      "Epoch 11/50\n",
      "12/12 [==============================] - 0s 7ms/step - loss: 0.3309 - accuracy: 0.9042 - val_loss: 0.2395 - val_accuracy: 0.9343\n",
      "Epoch 12/50\n",
      "12/12 [==============================] - 0s 6ms/step - loss: 0.3197 - accuracy: 0.9062 - val_loss: 0.2320 - val_accuracy: 0.9352\n",
      "Epoch 13/50\n",
      "12/12 [==============================] - 0s 8ms/step - loss: 0.3094 - accuracy: 0.9095 - val_loss: 0.2265 - val_accuracy: 0.9369\n",
      "Epoch 14/50\n",
      "12/12 [==============================] - 0s 6ms/step - loss: 0.3037 - accuracy: 0.9102 - val_loss: 0.2192 - val_accuracy: 0.9393\n",
      "Epoch 15/50\n",
      "12/12 [==============================] - 0s 7ms/step - loss: 0.2912 - accuracy: 0.9144 - val_loss: 0.2120 - val_accuracy: 0.9414\n",
      "Epoch 16/50\n",
      "12/12 [==============================] - 0s 7ms/step - loss: 0.2845 - accuracy: 0.9158 - val_loss: 0.2071 - val_accuracy: 0.9427\n",
      "Epoch 17/50\n",
      "12/12 [==============================] - 0s 6ms/step - loss: 0.2773 - accuracy: 0.9180 - val_loss: 0.2026 - val_accuracy: 0.9438\n",
      "Epoch 18/50\n",
      "12/12 [==============================] - 0s 6ms/step - loss: 0.2732 - accuracy: 0.9203 - val_loss: 0.1980 - val_accuracy: 0.9454\n",
      "Epoch 19/50\n",
      "12/12 [==============================] - 0s 6ms/step - loss: 0.2662 - accuracy: 0.9204 - val_loss: 0.1937 - val_accuracy: 0.9460\n",
      "Epoch 20/50\n",
      "12/12 [==============================] - 0s 6ms/step - loss: 0.2587 - accuracy: 0.9228 - val_loss: 0.1908 - val_accuracy: 0.9473\n",
      "Epoch 21/50\n",
      "12/12 [==============================] - 0s 6ms/step - loss: 0.2556 - accuracy: 0.9240 - val_loss: 0.1884 - val_accuracy: 0.9472\n",
      "Epoch 22/50\n",
      "12/12 [==============================] - 0s 6ms/step - loss: 0.2545 - accuracy: 0.9237 - val_loss: 0.1850 - val_accuracy: 0.9482\n",
      "Epoch 23/50\n",
      "12/12 [==============================] - 0s 6ms/step - loss: 0.2490 - accuracy: 0.9252 - val_loss: 0.1810 - val_accuracy: 0.9494\n",
      "Epoch 24/50\n",
      "12/12 [==============================] - 0s 8ms/step - loss: 0.2454 - accuracy: 0.9275 - val_loss: 0.1783 - val_accuracy: 0.9506\n",
      "Epoch 25/50\n",
      "12/12 [==============================] - 0s 7ms/step - loss: 0.2422 - accuracy: 0.9267 - val_loss: 0.1754 - val_accuracy: 0.9503\n",
      "Epoch 26/50\n",
      "12/12 [==============================] - 0s 6ms/step - loss: 0.2369 - accuracy: 0.9288 - val_loss: 0.1738 - val_accuracy: 0.9513\n",
      "Epoch 27/50\n",
      "12/12 [==============================] - 0s 6ms/step - loss: 0.2334 - accuracy: 0.9308 - val_loss: 0.1722 - val_accuracy: 0.9518\n",
      "Epoch 28/50\n",
      "12/12 [==============================] - 0s 6ms/step - loss: 0.2315 - accuracy: 0.9313 - val_loss: 0.1699 - val_accuracy: 0.9534\n",
      "Epoch 29/50\n",
      "12/12 [==============================] - 0s 6ms/step - loss: 0.2298 - accuracy: 0.9303 - val_loss: 0.1680 - val_accuracy: 0.9528\n",
      "Epoch 30/50\n",
      "12/12 [==============================] - 0s 6ms/step - loss: 0.2264 - accuracy: 0.9327 - val_loss: 0.1668 - val_accuracy: 0.9536\n",
      "Epoch 31/50\n",
      "12/12 [==============================] - 0s 7ms/step - loss: 0.2215 - accuracy: 0.9335 - val_loss: 0.1657 - val_accuracy: 0.9533\n",
      "Epoch 32/50\n",
      "12/12 [==============================] - 0s 6ms/step - loss: 0.2202 - accuracy: 0.9330 - val_loss: 0.1637 - val_accuracy: 0.9549\n",
      "Epoch 33/50\n",
      "12/12 [==============================] - 0s 6ms/step - loss: 0.2159 - accuracy: 0.9347 - val_loss: 0.1617 - val_accuracy: 0.9550\n",
      "Epoch 34/50\n",
      "12/12 [==============================] - 0s 6ms/step - loss: 0.2137 - accuracy: 0.9362 - val_loss: 0.1609 - val_accuracy: 0.9548\n",
      "Epoch 35/50\n",
      "12/12 [==============================] - 0s 6ms/step - loss: 0.2105 - accuracy: 0.9366 - val_loss: 0.1582 - val_accuracy: 0.9559\n",
      "Epoch 36/50\n",
      "12/12 [==============================] - 0s 8ms/step - loss: 0.2089 - accuracy: 0.9363 - val_loss: 0.1583 - val_accuracy: 0.9562\n",
      "Epoch 37/50\n",
      "12/12 [==============================] - 0s 6ms/step - loss: 0.2085 - accuracy: 0.9365 - val_loss: 0.1566 - val_accuracy: 0.9566\n",
      "Epoch 38/50\n",
      "12/12 [==============================] - 0s 6ms/step - loss: 0.2034 - accuracy: 0.9385 - val_loss: 0.1552 - val_accuracy: 0.9578\n",
      "Epoch 39/50\n",
      "12/12 [==============================] - 0s 6ms/step - loss: 0.2018 - accuracy: 0.9394 - val_loss: 0.1540 - val_accuracy: 0.9567\n",
      "Epoch 40/50\n",
      "12/12 [==============================] - 0s 6ms/step - loss: 0.2037 - accuracy: 0.9386 - val_loss: 0.1531 - val_accuracy: 0.9572\n",
      "Epoch 41/50\n",
      "12/12 [==============================] - 0s 6ms/step - loss: 0.2005 - accuracy: 0.9390 - val_loss: 0.1529 - val_accuracy: 0.9576\n",
      "Epoch 42/50\n",
      "12/12 [==============================] - 0s 6ms/step - loss: 0.1999 - accuracy: 0.9392 - val_loss: 0.1518 - val_accuracy: 0.9582\n",
      "Epoch 43/50\n",
      "12/12 [==============================] - 0s 6ms/step - loss: 0.1956 - accuracy: 0.9407 - val_loss: 0.1507 - val_accuracy: 0.9564\n",
      "Epoch 44/50\n",
      "12/12 [==============================] - 0s 6ms/step - loss: 0.1949 - accuracy: 0.9407 - val_loss: 0.1499 - val_accuracy: 0.9595\n",
      "Epoch 45/50\n",
      "12/12 [==============================] - 0s 6ms/step - loss: 0.1918 - accuracy: 0.9414 - val_loss: 0.1484 - val_accuracy: 0.9588\n",
      "Epoch 46/50\n",
      "12/12 [==============================] - 0s 6ms/step - loss: 0.1919 - accuracy: 0.9416 - val_loss: 0.1481 - val_accuracy: 0.9583\n",
      "Epoch 47/50\n",
      "12/12 [==============================] - 0s 6ms/step - loss: 0.1880 - accuracy: 0.9423 - val_loss: 0.1478 - val_accuracy: 0.9588\n",
      "Epoch 48/50\n",
      "12/12 [==============================] - 0s 6ms/step - loss: 0.1856 - accuracy: 0.9432 - val_loss: 0.1466 - val_accuracy: 0.9603\n",
      "Epoch 49/50\n",
      "12/12 [==============================] - 0s 6ms/step - loss: 0.1863 - accuracy: 0.9429 - val_loss: 0.1460 - val_accuracy: 0.9592\n",
      "Epoch 50/50\n",
      "12/12 [==============================] - 0s 6ms/step - loss: 0.1838 - accuracy: 0.9449 - val_loss: 0.1446 - val_accuracy: 0.9596\n",
      "\n",
      " Evaluate the new model against the test set:\n",
      "3/3 [==============================] - 0s 3ms/step - loss: 0.1486 - accuracy: 0.9573\n"
     ]
    },
    {
     "data": {
      "text/plain": [
       "[0.14863991737365723, 0.9573000073432922]"
      ]
     },
     "execution_count": 10,
     "metadata": {},
     "output_type": "execute_result"
    },
    {
     "data": {
      "image/png": "[encoded data removed]",
      "text/plain": [
       "<Figure size 640x480 with 1 Axes>"
      ]
     },
     "metadata": {},
     "output_type": "display_data"
    }
   ],
   "source": [
    "# The following variables are the hyperparameters.\n",
    "learning_rate = 0.003\n",
    "epochs = 50\n",
    "batch_size = 4000\n",
    "validation_split = 0.2\n",
    "\n",
    "# Establish the model's topography.\n",
    "my_model = create_model(learning_rate)\n",
    "\n",
    "# Train the model on the normalized training set.\n",
    "epochs, hist = train_model(my_model, x_train_normalized, y_train, \n",
    "                           epochs, batch_size, validation_split)\n",
    "\n",
    "# Plot a graph of the metric vs. epochs.\n",
    "list_of_metrics_to_plot = ['accuracy']\n",
    "plot_curve(epochs, hist, list_of_metrics_to_plot)\n",
    "\n",
    "# Evaluate against the test set.\n",
    "print(\"\\n Evaluate the new model against the test set:\")\n",
    "my_model.evaluate(x=x_test_normalized, y=y_test, batch_size=batch_size)"
   ]
  },
  {
   "cell_type": "code",
   "execution_count": null,
   "metadata": {},
   "outputs": [],
   "source": [
    "# It would take much too long to experiment \n",
    "# fully with topography and dropout regularization \n",
    "# rate. In the real world, you would\n",
    "# also experiment with learning rate, batch size, \n",
    "# and number of epochs.  Since you only have a \n",
    "# few minutes, searching for trends can be helpful.\n",
    "# Here is what we discovered:\n",
    "#   * Adding more nodes (at least until 256 nodes) \n",
    "#     to the first hidden layer improved accuracy.\n",
    "#   * Adding a second hidden layer generally \n",
    "#     improved accuracy.\n",
    "#   * When the model contains a lot of nodes, \n",
    "#     the model overfits unless the dropout rate \n",
    "#     is at least 0.5. \n",
    "\n",
    "# We reached 98% test accuracy with the \n",
    "# following configuration:\n",
    "#   * One hidden layer of 256 nodes; no second \n",
    "#     hidden layer.\n",
    "#   * dropout regularization rate of 0.4\n",
    "\n",
    "# We reached 98.2% test accuracy with the \n",
    "# following configuration:\n",
    "#   * First hidden layer of 256 nodes; \n",
    "#     second hidden layer of 128 nodes.\n",
    "#   * dropout regularization rate of 0.2\n"
   ]
  }
 ],
 "metadata": {
  "kernelspec": {
   "display_name": "base",
   "language": "python",
   "name": "python3"
  },
  "language_info": {
   "codemirror_mode": {
    "name": "ipython",
    "version": 3
   },
   "file_extension": ".py",
   "mimetype": "text/x-python",
   "name": "python",
   "nbconvert_exporter": "python",
   "pygments_lexer": "ipython3",
   "version": "3.10.9"
  },
  "orig_nbformat": 4
 },
 "nbformat": 4,
 "nbformat_minor": 2
}
